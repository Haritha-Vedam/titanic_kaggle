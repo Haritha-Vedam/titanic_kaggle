{
 "cells": [
  {
   "cell_type": "code",
   "execution_count": 1,
   "id": "87fcb7ef",
   "metadata": {
    "_cell_guid": "b1076dfc-b9ad-4769-8c92-a6c4dae69d19",
    "_uuid": "8f2839f25d086af736a60e9eeb907d3b93b6e0e5",
    "execution": {
     "iopub.execute_input": "2024-01-02T11:52:01.321381Z",
     "iopub.status.busy": "2024-01-02T11:52:01.320987Z",
     "iopub.status.idle": "2024-01-02T11:52:01.772433Z",
     "shell.execute_reply": "2024-01-02T11:52:01.770641Z"
    },
    "papermill": {
     "duration": 0.471136,
     "end_time": "2024-01-02T11:52:01.776167",
     "exception": false,
     "start_time": "2024-01-02T11:52:01.305031",
     "status": "completed"
    },
    "tags": []
   },
   "outputs": [
    {
     "name": "stdout",
     "output_type": "stream",
     "text": [
      "/kaggle/input/titanic/train.csv\n",
      "/kaggle/input/titanic/test.csv\n",
      "/kaggle/input/titanic/gender_submission.csv\n"
     ]
    }
   ],
   "source": [
    "# This Python 3 environment comes with many helpful analytics libraries installed\n",
    "# It is defined by the kaggle/python Docker image: https://github.com/kaggle/docker-python\n",
    "# For example, here's several helpful packages to load\n",
    "\n",
    "import numpy as np # linear algebra\n",
    "import pandas as pd # data processing, CSV file I/O (e.g. pd.read_csv)\n",
    "\n",
    "# Input data files are available in the read-only \"../input/\" directory\n",
    "# For example, running this (by clicking run or pressing Shift+Enter) will list all files under the input directory\n",
    "\n",
    "import os\n",
    "for dirname, _, filenames in os.walk('/kaggle/input'):\n",
    "    for filename in filenames:\n",
    "        print(os.path.join(dirname, filename))\n",
    "\n",
    "# You can write up to 20GB to the current directory (/kaggle/working/) that gets preserved as output when you create a version using \"Save & Run All\" \n",
    "# You can also write temporary files to /kaggle/temp/, but they won't be saved outside of the current session"
   ]
  },
  {
   "cell_type": "code",
   "execution_count": 2,
   "id": "ccbca8ba",
   "metadata": {
    "execution": {
     "iopub.execute_input": "2024-01-02T11:52:01.810269Z",
     "iopub.status.busy": "2024-01-02T11:52:01.808900Z",
     "iopub.status.idle": "2024-01-02T11:52:03.355232Z",
     "shell.execute_reply": "2024-01-02T11:52:03.354053Z"
    },
    "papermill": {
     "duration": 1.566152,
     "end_time": "2024-01-02T11:52:03.357812",
     "exception": false,
     "start_time": "2024-01-02T11:52:01.791660",
     "status": "completed"
    },
    "tags": []
   },
   "outputs": [],
   "source": [
    "import pandas as pd\n",
    "import numpy as np\n",
    "import matplotlib.pyplot as plt\n",
    "import seaborn as sns"
   ]
  },
  {
   "cell_type": "code",
   "execution_count": 3,
   "id": "d3cb37c2",
   "metadata": {
    "execution": {
     "iopub.execute_input": "2024-01-02T11:52:03.389047Z",
     "iopub.status.busy": "2024-01-02T11:52:03.388568Z",
     "iopub.status.idle": "2024-01-02T11:52:03.420438Z",
     "shell.execute_reply": "2024-01-02T11:52:03.419193Z"
    },
    "papermill": {
     "duration": 0.0509,
     "end_time": "2024-01-02T11:52:03.423051",
     "exception": false,
     "start_time": "2024-01-02T11:52:03.372151",
     "status": "completed"
    },
    "tags": []
   },
   "outputs": [],
   "source": [
    "data = pd.read_csv('/kaggle/input/titanic/train.csv')\n",
    "test_data = pd.read_csv('/kaggle/input/titanic/test.csv')"
   ]
  },
  {
   "cell_type": "code",
   "execution_count": 4,
   "id": "49345880",
   "metadata": {
    "execution": {
     "iopub.execute_input": "2024-01-02T11:52:03.454770Z",
     "iopub.status.busy": "2024-01-02T11:52:03.454374Z",
     "iopub.status.idle": "2024-01-02T11:52:03.499008Z",
     "shell.execute_reply": "2024-01-02T11:52:03.497244Z"
    },
    "papermill": {
     "duration": 0.064861,
     "end_time": "2024-01-02T11:52:03.502139",
     "exception": false,
     "start_time": "2024-01-02T11:52:03.437278",
     "status": "completed"
    },
    "tags": []
   },
   "outputs": [
    {
     "data": {
      "text/html": [
       "<div>\n",
       "<style scoped>\n",
       "    .dataframe tbody tr th:only-of-type {\n",
       "        vertical-align: middle;\n",
       "    }\n",
       "\n",
       "    .dataframe tbody tr th {\n",
       "        vertical-align: top;\n",
       "    }\n",
       "\n",
       "    .dataframe thead th {\n",
       "        text-align: right;\n",
       "    }\n",
       "</style>\n",
       "<table border=\"1\" class=\"dataframe\">\n",
       "  <thead>\n",
       "    <tr style=\"text-align: right;\">\n",
       "      <th></th>\n",
       "      <th>PassengerId</th>\n",
       "      <th>Survived</th>\n",
       "      <th>Pclass</th>\n",
       "      <th>Name</th>\n",
       "      <th>Sex</th>\n",
       "      <th>Age</th>\n",
       "      <th>SibSp</th>\n",
       "      <th>Parch</th>\n",
       "      <th>Ticket</th>\n",
       "      <th>Fare</th>\n",
       "      <th>Cabin</th>\n",
       "      <th>Embarked</th>\n",
       "    </tr>\n",
       "  </thead>\n",
       "  <tbody>\n",
       "    <tr>\n",
       "      <th>0</th>\n",
       "      <td>1</td>\n",
       "      <td>0</td>\n",
       "      <td>3</td>\n",
       "      <td>Braund, Mr. Owen Harris</td>\n",
       "      <td>male</td>\n",
       "      <td>22.0</td>\n",
       "      <td>1</td>\n",
       "      <td>0</td>\n",
       "      <td>A/5 21171</td>\n",
       "      <td>7.2500</td>\n",
       "      <td>NaN</td>\n",
       "      <td>S</td>\n",
       "    </tr>\n",
       "    <tr>\n",
       "      <th>1</th>\n",
       "      <td>2</td>\n",
       "      <td>1</td>\n",
       "      <td>1</td>\n",
       "      <td>Cumings, Mrs. John Bradley (Florence Briggs Th...</td>\n",
       "      <td>female</td>\n",
       "      <td>38.0</td>\n",
       "      <td>1</td>\n",
       "      <td>0</td>\n",
       "      <td>PC 17599</td>\n",
       "      <td>71.2833</td>\n",
       "      <td>C85</td>\n",
       "      <td>C</td>\n",
       "    </tr>\n",
       "    <tr>\n",
       "      <th>2</th>\n",
       "      <td>3</td>\n",
       "      <td>1</td>\n",
       "      <td>3</td>\n",
       "      <td>Heikkinen, Miss. Laina</td>\n",
       "      <td>female</td>\n",
       "      <td>26.0</td>\n",
       "      <td>0</td>\n",
       "      <td>0</td>\n",
       "      <td>STON/O2. 3101282</td>\n",
       "      <td>7.9250</td>\n",
       "      <td>NaN</td>\n",
       "      <td>S</td>\n",
       "    </tr>\n",
       "    <tr>\n",
       "      <th>3</th>\n",
       "      <td>4</td>\n",
       "      <td>1</td>\n",
       "      <td>1</td>\n",
       "      <td>Futrelle, Mrs. Jacques Heath (Lily May Peel)</td>\n",
       "      <td>female</td>\n",
       "      <td>35.0</td>\n",
       "      <td>1</td>\n",
       "      <td>0</td>\n",
       "      <td>113803</td>\n",
       "      <td>53.1000</td>\n",
       "      <td>C123</td>\n",
       "      <td>S</td>\n",
       "    </tr>\n",
       "    <tr>\n",
       "      <th>4</th>\n",
       "      <td>5</td>\n",
       "      <td>0</td>\n",
       "      <td>3</td>\n",
       "      <td>Allen, Mr. William Henry</td>\n",
       "      <td>male</td>\n",
       "      <td>35.0</td>\n",
       "      <td>0</td>\n",
       "      <td>0</td>\n",
       "      <td>373450</td>\n",
       "      <td>8.0500</td>\n",
       "      <td>NaN</td>\n",
       "      <td>S</td>\n",
       "    </tr>\n",
       "    <tr>\n",
       "      <th>...</th>\n",
       "      <td>...</td>\n",
       "      <td>...</td>\n",
       "      <td>...</td>\n",
       "      <td>...</td>\n",
       "      <td>...</td>\n",
       "      <td>...</td>\n",
       "      <td>...</td>\n",
       "      <td>...</td>\n",
       "      <td>...</td>\n",
       "      <td>...</td>\n",
       "      <td>...</td>\n",
       "      <td>...</td>\n",
       "    </tr>\n",
       "    <tr>\n",
       "      <th>886</th>\n",
       "      <td>887</td>\n",
       "      <td>0</td>\n",
       "      <td>2</td>\n",
       "      <td>Montvila, Rev. Juozas</td>\n",
       "      <td>male</td>\n",
       "      <td>27.0</td>\n",
       "      <td>0</td>\n",
       "      <td>0</td>\n",
       "      <td>211536</td>\n",
       "      <td>13.0000</td>\n",
       "      <td>NaN</td>\n",
       "      <td>S</td>\n",
       "    </tr>\n",
       "    <tr>\n",
       "      <th>887</th>\n",
       "      <td>888</td>\n",
       "      <td>1</td>\n",
       "      <td>1</td>\n",
       "      <td>Graham, Miss. Margaret Edith</td>\n",
       "      <td>female</td>\n",
       "      <td>19.0</td>\n",
       "      <td>0</td>\n",
       "      <td>0</td>\n",
       "      <td>112053</td>\n",
       "      <td>30.0000</td>\n",
       "      <td>B42</td>\n",
       "      <td>S</td>\n",
       "    </tr>\n",
       "    <tr>\n",
       "      <th>888</th>\n",
       "      <td>889</td>\n",
       "      <td>0</td>\n",
       "      <td>3</td>\n",
       "      <td>Johnston, Miss. Catherine Helen \"Carrie\"</td>\n",
       "      <td>female</td>\n",
       "      <td>NaN</td>\n",
       "      <td>1</td>\n",
       "      <td>2</td>\n",
       "      <td>W./C. 6607</td>\n",
       "      <td>23.4500</td>\n",
       "      <td>NaN</td>\n",
       "      <td>S</td>\n",
       "    </tr>\n",
       "    <tr>\n",
       "      <th>889</th>\n",
       "      <td>890</td>\n",
       "      <td>1</td>\n",
       "      <td>1</td>\n",
       "      <td>Behr, Mr. Karl Howell</td>\n",
       "      <td>male</td>\n",
       "      <td>26.0</td>\n",
       "      <td>0</td>\n",
       "      <td>0</td>\n",
       "      <td>111369</td>\n",
       "      <td>30.0000</td>\n",
       "      <td>C148</td>\n",
       "      <td>C</td>\n",
       "    </tr>\n",
       "    <tr>\n",
       "      <th>890</th>\n",
       "      <td>891</td>\n",
       "      <td>0</td>\n",
       "      <td>3</td>\n",
       "      <td>Dooley, Mr. Patrick</td>\n",
       "      <td>male</td>\n",
       "      <td>32.0</td>\n",
       "      <td>0</td>\n",
       "      <td>0</td>\n",
       "      <td>370376</td>\n",
       "      <td>7.7500</td>\n",
       "      <td>NaN</td>\n",
       "      <td>Q</td>\n",
       "    </tr>\n",
       "  </tbody>\n",
       "</table>\n",
       "<p>891 rows × 12 columns</p>\n",
       "</div>"
      ],
      "text/plain": [
       "     PassengerId  Survived  Pclass  \\\n",
       "0              1         0       3   \n",
       "1              2         1       1   \n",
       "2              3         1       3   \n",
       "3              4         1       1   \n",
       "4              5         0       3   \n",
       "..           ...       ...     ...   \n",
       "886          887         0       2   \n",
       "887          888         1       1   \n",
       "888          889         0       3   \n",
       "889          890         1       1   \n",
       "890          891         0       3   \n",
       "\n",
       "                                                  Name     Sex   Age  SibSp  \\\n",
       "0                              Braund, Mr. Owen Harris    male  22.0      1   \n",
       "1    Cumings, Mrs. John Bradley (Florence Briggs Th...  female  38.0      1   \n",
       "2                               Heikkinen, Miss. Laina  female  26.0      0   \n",
       "3         Futrelle, Mrs. Jacques Heath (Lily May Peel)  female  35.0      1   \n",
       "4                             Allen, Mr. William Henry    male  35.0      0   \n",
       "..                                                 ...     ...   ...    ...   \n",
       "886                              Montvila, Rev. Juozas    male  27.0      0   \n",
       "887                       Graham, Miss. Margaret Edith  female  19.0      0   \n",
       "888           Johnston, Miss. Catherine Helen \"Carrie\"  female   NaN      1   \n",
       "889                              Behr, Mr. Karl Howell    male  26.0      0   \n",
       "890                                Dooley, Mr. Patrick    male  32.0      0   \n",
       "\n",
       "     Parch            Ticket     Fare Cabin Embarked  \n",
       "0        0         A/5 21171   7.2500   NaN        S  \n",
       "1        0          PC 17599  71.2833   C85        C  \n",
       "2        0  STON/O2. 3101282   7.9250   NaN        S  \n",
       "3        0            113803  53.1000  C123        S  \n",
       "4        0            373450   8.0500   NaN        S  \n",
       "..     ...               ...      ...   ...      ...  \n",
       "886      0            211536  13.0000   NaN        S  \n",
       "887      0            112053  30.0000   B42        S  \n",
       "888      2        W./C. 6607  23.4500   NaN        S  \n",
       "889      0            111369  30.0000  C148        C  \n",
       "890      0            370376   7.7500   NaN        Q  \n",
       "\n",
       "[891 rows x 12 columns]"
      ]
     },
     "execution_count": 4,
     "metadata": {},
     "output_type": "execute_result"
    }
   ],
   "source": [
    "data"
   ]
  },
  {
   "cell_type": "code",
   "execution_count": 5,
   "id": "09bff6dc",
   "metadata": {
    "execution": {
     "iopub.execute_input": "2024-01-02T11:52:03.537348Z",
     "iopub.status.busy": "2024-01-02T11:52:03.536491Z",
     "iopub.status.idle": "2024-01-02T11:52:03.560748Z",
     "shell.execute_reply": "2024-01-02T11:52:03.559082Z"
    },
    "papermill": {
     "duration": 0.044141,
     "end_time": "2024-01-02T11:52:03.563942",
     "exception": false,
     "start_time": "2024-01-02T11:52:03.519801",
     "status": "completed"
    },
    "tags": []
   },
   "outputs": [
    {
     "data": {
      "text/html": [
       "<div>\n",
       "<style scoped>\n",
       "    .dataframe tbody tr th:only-of-type {\n",
       "        vertical-align: middle;\n",
       "    }\n",
       "\n",
       "    .dataframe tbody tr th {\n",
       "        vertical-align: top;\n",
       "    }\n",
       "\n",
       "    .dataframe thead th {\n",
       "        text-align: right;\n",
       "    }\n",
       "</style>\n",
       "<table border=\"1\" class=\"dataframe\">\n",
       "  <thead>\n",
       "    <tr style=\"text-align: right;\">\n",
       "      <th></th>\n",
       "      <th>PassengerId</th>\n",
       "      <th>Pclass</th>\n",
       "      <th>Name</th>\n",
       "      <th>Sex</th>\n",
       "      <th>Age</th>\n",
       "      <th>SibSp</th>\n",
       "      <th>Parch</th>\n",
       "      <th>Ticket</th>\n",
       "      <th>Fare</th>\n",
       "      <th>Cabin</th>\n",
       "      <th>Embarked</th>\n",
       "    </tr>\n",
       "  </thead>\n",
       "  <tbody>\n",
       "    <tr>\n",
       "      <th>0</th>\n",
       "      <td>892</td>\n",
       "      <td>3</td>\n",
       "      <td>Kelly, Mr. James</td>\n",
       "      <td>male</td>\n",
       "      <td>34.5</td>\n",
       "      <td>0</td>\n",
       "      <td>0</td>\n",
       "      <td>330911</td>\n",
       "      <td>7.8292</td>\n",
       "      <td>NaN</td>\n",
       "      <td>Q</td>\n",
       "    </tr>\n",
       "    <tr>\n",
       "      <th>1</th>\n",
       "      <td>893</td>\n",
       "      <td>3</td>\n",
       "      <td>Wilkes, Mrs. James (Ellen Needs)</td>\n",
       "      <td>female</td>\n",
       "      <td>47.0</td>\n",
       "      <td>1</td>\n",
       "      <td>0</td>\n",
       "      <td>363272</td>\n",
       "      <td>7.0000</td>\n",
       "      <td>NaN</td>\n",
       "      <td>S</td>\n",
       "    </tr>\n",
       "    <tr>\n",
       "      <th>2</th>\n",
       "      <td>894</td>\n",
       "      <td>2</td>\n",
       "      <td>Myles, Mr. Thomas Francis</td>\n",
       "      <td>male</td>\n",
       "      <td>62.0</td>\n",
       "      <td>0</td>\n",
       "      <td>0</td>\n",
       "      <td>240276</td>\n",
       "      <td>9.6875</td>\n",
       "      <td>NaN</td>\n",
       "      <td>Q</td>\n",
       "    </tr>\n",
       "    <tr>\n",
       "      <th>3</th>\n",
       "      <td>895</td>\n",
       "      <td>3</td>\n",
       "      <td>Wirz, Mr. Albert</td>\n",
       "      <td>male</td>\n",
       "      <td>27.0</td>\n",
       "      <td>0</td>\n",
       "      <td>0</td>\n",
       "      <td>315154</td>\n",
       "      <td>8.6625</td>\n",
       "      <td>NaN</td>\n",
       "      <td>S</td>\n",
       "    </tr>\n",
       "    <tr>\n",
       "      <th>4</th>\n",
       "      <td>896</td>\n",
       "      <td>3</td>\n",
       "      <td>Hirvonen, Mrs. Alexander (Helga E Lindqvist)</td>\n",
       "      <td>female</td>\n",
       "      <td>22.0</td>\n",
       "      <td>1</td>\n",
       "      <td>1</td>\n",
       "      <td>3101298</td>\n",
       "      <td>12.2875</td>\n",
       "      <td>NaN</td>\n",
       "      <td>S</td>\n",
       "    </tr>\n",
       "    <tr>\n",
       "      <th>...</th>\n",
       "      <td>...</td>\n",
       "      <td>...</td>\n",
       "      <td>...</td>\n",
       "      <td>...</td>\n",
       "      <td>...</td>\n",
       "      <td>...</td>\n",
       "      <td>...</td>\n",
       "      <td>...</td>\n",
       "      <td>...</td>\n",
       "      <td>...</td>\n",
       "      <td>...</td>\n",
       "    </tr>\n",
       "    <tr>\n",
       "      <th>413</th>\n",
       "      <td>1305</td>\n",
       "      <td>3</td>\n",
       "      <td>Spector, Mr. Woolf</td>\n",
       "      <td>male</td>\n",
       "      <td>NaN</td>\n",
       "      <td>0</td>\n",
       "      <td>0</td>\n",
       "      <td>A.5. 3236</td>\n",
       "      <td>8.0500</td>\n",
       "      <td>NaN</td>\n",
       "      <td>S</td>\n",
       "    </tr>\n",
       "    <tr>\n",
       "      <th>414</th>\n",
       "      <td>1306</td>\n",
       "      <td>1</td>\n",
       "      <td>Oliva y Ocana, Dona. Fermina</td>\n",
       "      <td>female</td>\n",
       "      <td>39.0</td>\n",
       "      <td>0</td>\n",
       "      <td>0</td>\n",
       "      <td>PC 17758</td>\n",
       "      <td>108.9000</td>\n",
       "      <td>C105</td>\n",
       "      <td>C</td>\n",
       "    </tr>\n",
       "    <tr>\n",
       "      <th>415</th>\n",
       "      <td>1307</td>\n",
       "      <td>3</td>\n",
       "      <td>Saether, Mr. Simon Sivertsen</td>\n",
       "      <td>male</td>\n",
       "      <td>38.5</td>\n",
       "      <td>0</td>\n",
       "      <td>0</td>\n",
       "      <td>SOTON/O.Q. 3101262</td>\n",
       "      <td>7.2500</td>\n",
       "      <td>NaN</td>\n",
       "      <td>S</td>\n",
       "    </tr>\n",
       "    <tr>\n",
       "      <th>416</th>\n",
       "      <td>1308</td>\n",
       "      <td>3</td>\n",
       "      <td>Ware, Mr. Frederick</td>\n",
       "      <td>male</td>\n",
       "      <td>NaN</td>\n",
       "      <td>0</td>\n",
       "      <td>0</td>\n",
       "      <td>359309</td>\n",
       "      <td>8.0500</td>\n",
       "      <td>NaN</td>\n",
       "      <td>S</td>\n",
       "    </tr>\n",
       "    <tr>\n",
       "      <th>417</th>\n",
       "      <td>1309</td>\n",
       "      <td>3</td>\n",
       "      <td>Peter, Master. Michael J</td>\n",
       "      <td>male</td>\n",
       "      <td>NaN</td>\n",
       "      <td>1</td>\n",
       "      <td>1</td>\n",
       "      <td>2668</td>\n",
       "      <td>22.3583</td>\n",
       "      <td>NaN</td>\n",
       "      <td>C</td>\n",
       "    </tr>\n",
       "  </tbody>\n",
       "</table>\n",
       "<p>418 rows × 11 columns</p>\n",
       "</div>"
      ],
      "text/plain": [
       "     PassengerId  Pclass                                          Name  \\\n",
       "0            892       3                              Kelly, Mr. James   \n",
       "1            893       3              Wilkes, Mrs. James (Ellen Needs)   \n",
       "2            894       2                     Myles, Mr. Thomas Francis   \n",
       "3            895       3                              Wirz, Mr. Albert   \n",
       "4            896       3  Hirvonen, Mrs. Alexander (Helga E Lindqvist)   \n",
       "..           ...     ...                                           ...   \n",
       "413         1305       3                            Spector, Mr. Woolf   \n",
       "414         1306       1                  Oliva y Ocana, Dona. Fermina   \n",
       "415         1307       3                  Saether, Mr. Simon Sivertsen   \n",
       "416         1308       3                           Ware, Mr. Frederick   \n",
       "417         1309       3                      Peter, Master. Michael J   \n",
       "\n",
       "        Sex   Age  SibSp  Parch              Ticket      Fare Cabin Embarked  \n",
       "0      male  34.5      0      0              330911    7.8292   NaN        Q  \n",
       "1    female  47.0      1      0              363272    7.0000   NaN        S  \n",
       "2      male  62.0      0      0              240276    9.6875   NaN        Q  \n",
       "3      male  27.0      0      0              315154    8.6625   NaN        S  \n",
       "4    female  22.0      1      1             3101298   12.2875   NaN        S  \n",
       "..      ...   ...    ...    ...                 ...       ...   ...      ...  \n",
       "413    male   NaN      0      0           A.5. 3236    8.0500   NaN        S  \n",
       "414  female  39.0      0      0            PC 17758  108.9000  C105        C  \n",
       "415    male  38.5      0      0  SOTON/O.Q. 3101262    7.2500   NaN        S  \n",
       "416    male   NaN      0      0              359309    8.0500   NaN        S  \n",
       "417    male   NaN      1      1                2668   22.3583   NaN        C  \n",
       "\n",
       "[418 rows x 11 columns]"
      ]
     },
     "execution_count": 5,
     "metadata": {},
     "output_type": "execute_result"
    }
   ],
   "source": [
    "test_data"
   ]
  },
  {
   "cell_type": "code",
   "execution_count": 6,
   "id": "fd6bb79d",
   "metadata": {
    "execution": {
     "iopub.execute_input": "2024-01-02T11:52:03.598413Z",
     "iopub.status.busy": "2024-01-02T11:52:03.598035Z",
     "iopub.status.idle": "2024-01-02T11:52:03.717134Z",
     "shell.execute_reply": "2024-01-02T11:52:03.715012Z"
    },
    "papermill": {
     "duration": 0.140449,
     "end_time": "2024-01-02T11:52:03.720274",
     "exception": false,
     "start_time": "2024-01-02T11:52:03.579825",
     "status": "completed"
    },
    "tags": []
   },
   "outputs": [
    {
     "name": "stdout",
     "output_type": "stream",
     "text": [
      "<class 'pandas.core.frame.DataFrame'>\n",
      "RangeIndex: 891 entries, 0 to 890\n",
      "Data columns (total 12 columns):\n",
      " #   Column       Non-Null Count  Dtype  \n",
      "---  ------       --------------  -----  \n",
      " 0   PassengerId  891 non-null    int64  \n",
      " 1   Survived     891 non-null    int64  \n",
      " 2   Pclass       891 non-null    int64  \n",
      " 3   Name         891 non-null    object \n",
      " 4   Sex          891 non-null    object \n",
      " 5   Age          714 non-null    float64\n",
      " 6   SibSp        891 non-null    int64  \n",
      " 7   Parch        891 non-null    int64  \n",
      " 8   Ticket       891 non-null    object \n",
      " 9   Fare         891 non-null    float64\n",
      " 10  Cabin        204 non-null    object \n",
      " 11  Embarked     889 non-null    object \n",
      "dtypes: float64(2), int64(5), object(5)\n",
      "memory usage: 83.7+ KB\n"
     ]
    }
   ],
   "source": [
    "#Getting info about the data\n",
    "data.info()"
   ]
  },
  {
   "cell_type": "code",
   "execution_count": 7,
   "id": "411fdafd",
   "metadata": {
    "execution": {
     "iopub.execute_input": "2024-01-02T11:52:03.754699Z",
     "iopub.status.busy": "2024-01-02T11:52:03.753846Z",
     "iopub.status.idle": "2024-01-02T11:52:03.764339Z",
     "shell.execute_reply": "2024-01-02T11:52:03.763031Z"
    },
    "papermill": {
     "duration": 0.030847,
     "end_time": "2024-01-02T11:52:03.766975",
     "exception": false,
     "start_time": "2024-01-02T11:52:03.736128",
     "status": "completed"
    },
    "tags": []
   },
   "outputs": [
    {
     "data": {
      "text/plain": [
       "PassengerId      0\n",
       "Survived         0\n",
       "Pclass           0\n",
       "Name             0\n",
       "Sex              0\n",
       "Age            177\n",
       "SibSp            0\n",
       "Parch            0\n",
       "Ticket           0\n",
       "Fare             0\n",
       "Cabin          687\n",
       "Embarked         2\n",
       "dtype: int64"
      ]
     },
     "execution_count": 7,
     "metadata": {},
     "output_type": "execute_result"
    }
   ],
   "source": [
    "#Getting count of null values\n",
    "data.isnull().sum()"
   ]
  },
  {
   "cell_type": "markdown",
   "id": "a342b782",
   "metadata": {
    "papermill": {
     "duration": 0.017335,
     "end_time": "2024-01-02T11:52:03.799925",
     "exception": false,
     "start_time": "2024-01-02T11:52:03.782590",
     "status": "completed"
    },
    "tags": []
   },
   "source": [
    "- The data contains 11 columns. \n",
    "- Passenger id, Ticket, and Name are identifier columns and are irrelevant to our analysis. We hence drop the column\n",
    "- Cabin column has 687 null values. There is no point in filling the column with augmented values as we have to fill around 80% of values. We'll drop the column\n",
    "- Let us analyse the remaining columns"
   ]
  },
  {
   "cell_type": "code",
   "execution_count": 8,
   "id": "776553db",
   "metadata": {
    "execution": {
     "iopub.execute_input": "2024-01-02T11:52:03.836222Z",
     "iopub.status.busy": "2024-01-02T11:52:03.835257Z",
     "iopub.status.idle": "2024-01-02T11:52:03.843307Z",
     "shell.execute_reply": "2024-01-02T11:52:03.842397Z"
    },
    "papermill": {
     "duration": 0.02894,
     "end_time": "2024-01-02T11:52:03.845764",
     "exception": false,
     "start_time": "2024-01-02T11:52:03.816824",
     "status": "completed"
    },
    "tags": []
   },
   "outputs": [],
   "source": [
    "data.drop(['PassengerId','Ticket','Name','Cabin'],axis=1,inplace=True)"
   ]
  },
  {
   "cell_type": "code",
   "execution_count": 9,
   "id": "d7260334",
   "metadata": {
    "execution": {
     "iopub.execute_input": "2024-01-02T11:52:03.881925Z",
     "iopub.status.busy": "2024-01-02T11:52:03.880825Z",
     "iopub.status.idle": "2024-01-02T11:52:03.914535Z",
     "shell.execute_reply": "2024-01-02T11:52:03.912890Z"
    },
    "papermill": {
     "duration": 0.053704,
     "end_time": "2024-01-02T11:52:03.917164",
     "exception": false,
     "start_time": "2024-01-02T11:52:03.863460",
     "status": "completed"
    },
    "tags": []
   },
   "outputs": [
    {
     "data": {
      "text/html": [
       "<div>\n",
       "<style scoped>\n",
       "    .dataframe tbody tr th:only-of-type {\n",
       "        vertical-align: middle;\n",
       "    }\n",
       "\n",
       "    .dataframe tbody tr th {\n",
       "        vertical-align: top;\n",
       "    }\n",
       "\n",
       "    .dataframe thead th {\n",
       "        text-align: right;\n",
       "    }\n",
       "</style>\n",
       "<table border=\"1\" class=\"dataframe\">\n",
       "  <thead>\n",
       "    <tr style=\"text-align: right;\">\n",
       "      <th></th>\n",
       "      <th>Survived</th>\n",
       "      <th>Pclass</th>\n",
       "      <th>Age</th>\n",
       "      <th>SibSp</th>\n",
       "      <th>Parch</th>\n",
       "      <th>Fare</th>\n",
       "    </tr>\n",
       "  </thead>\n",
       "  <tbody>\n",
       "    <tr>\n",
       "      <th>count</th>\n",
       "      <td>891.000000</td>\n",
       "      <td>891.000000</td>\n",
       "      <td>714.000000</td>\n",
       "      <td>891.000000</td>\n",
       "      <td>891.000000</td>\n",
       "      <td>891.000000</td>\n",
       "    </tr>\n",
       "    <tr>\n",
       "      <th>mean</th>\n",
       "      <td>0.383838</td>\n",
       "      <td>2.308642</td>\n",
       "      <td>29.699118</td>\n",
       "      <td>0.523008</td>\n",
       "      <td>0.381594</td>\n",
       "      <td>32.204208</td>\n",
       "    </tr>\n",
       "    <tr>\n",
       "      <th>std</th>\n",
       "      <td>0.486592</td>\n",
       "      <td>0.836071</td>\n",
       "      <td>14.526497</td>\n",
       "      <td>1.102743</td>\n",
       "      <td>0.806057</td>\n",
       "      <td>49.693429</td>\n",
       "    </tr>\n",
       "    <tr>\n",
       "      <th>min</th>\n",
       "      <td>0.000000</td>\n",
       "      <td>1.000000</td>\n",
       "      <td>0.420000</td>\n",
       "      <td>0.000000</td>\n",
       "      <td>0.000000</td>\n",
       "      <td>0.000000</td>\n",
       "    </tr>\n",
       "    <tr>\n",
       "      <th>25%</th>\n",
       "      <td>0.000000</td>\n",
       "      <td>2.000000</td>\n",
       "      <td>20.125000</td>\n",
       "      <td>0.000000</td>\n",
       "      <td>0.000000</td>\n",
       "      <td>7.910400</td>\n",
       "    </tr>\n",
       "    <tr>\n",
       "      <th>50%</th>\n",
       "      <td>0.000000</td>\n",
       "      <td>3.000000</td>\n",
       "      <td>28.000000</td>\n",
       "      <td>0.000000</td>\n",
       "      <td>0.000000</td>\n",
       "      <td>14.454200</td>\n",
       "    </tr>\n",
       "    <tr>\n",
       "      <th>75%</th>\n",
       "      <td>1.000000</td>\n",
       "      <td>3.000000</td>\n",
       "      <td>38.000000</td>\n",
       "      <td>1.000000</td>\n",
       "      <td>0.000000</td>\n",
       "      <td>31.000000</td>\n",
       "    </tr>\n",
       "    <tr>\n",
       "      <th>max</th>\n",
       "      <td>1.000000</td>\n",
       "      <td>3.000000</td>\n",
       "      <td>80.000000</td>\n",
       "      <td>8.000000</td>\n",
       "      <td>6.000000</td>\n",
       "      <td>512.329200</td>\n",
       "    </tr>\n",
       "  </tbody>\n",
       "</table>\n",
       "</div>"
      ],
      "text/plain": [
       "         Survived      Pclass         Age       SibSp       Parch        Fare\n",
       "count  891.000000  891.000000  714.000000  891.000000  891.000000  891.000000\n",
       "mean     0.383838    2.308642   29.699118    0.523008    0.381594   32.204208\n",
       "std      0.486592    0.836071   14.526497    1.102743    0.806057   49.693429\n",
       "min      0.000000    1.000000    0.420000    0.000000    0.000000    0.000000\n",
       "25%      0.000000    2.000000   20.125000    0.000000    0.000000    7.910400\n",
       "50%      0.000000    3.000000   28.000000    0.000000    0.000000   14.454200\n",
       "75%      1.000000    3.000000   38.000000    1.000000    0.000000   31.000000\n",
       "max      1.000000    3.000000   80.000000    8.000000    6.000000  512.329200"
      ]
     },
     "execution_count": 9,
     "metadata": {},
     "output_type": "execute_result"
    }
   ],
   "source": [
    "data.describe()"
   ]
  },
  {
   "cell_type": "code",
   "execution_count": 10,
   "id": "a11e68de",
   "metadata": {
    "execution": {
     "iopub.execute_input": "2024-01-02T11:52:04.031108Z",
     "iopub.status.busy": "2024-01-02T11:52:04.030399Z",
     "iopub.status.idle": "2024-01-02T11:52:04.042671Z",
     "shell.execute_reply": "2024-01-02T11:52:04.041487Z"
    },
    "papermill": {
     "duration": 0.034382,
     "end_time": "2024-01-02T11:52:04.045180",
     "exception": false,
     "start_time": "2024-01-02T11:52:04.010798",
     "status": "completed"
    },
    "tags": []
   },
   "outputs": [
    {
     "name": "stdout",
     "output_type": "stream",
     "text": [
      "<class 'pandas.core.frame.DataFrame'>\n",
      "RangeIndex: 891 entries, 0 to 890\n",
      "Data columns (total 8 columns):\n",
      " #   Column    Non-Null Count  Dtype  \n",
      "---  ------    --------------  -----  \n",
      " 0   Survived  891 non-null    int64  \n",
      " 1   Pclass    891 non-null    int64  \n",
      " 2   Sex       891 non-null    object \n",
      " 3   Age       714 non-null    float64\n",
      " 4   SibSp     891 non-null    int64  \n",
      " 5   Parch     891 non-null    int64  \n",
      " 6   Fare      891 non-null    float64\n",
      " 7   Embarked  889 non-null    object \n",
      "dtypes: float64(2), int64(4), object(2)\n",
      "memory usage: 55.8+ KB\n"
     ]
    }
   ],
   "source": [
    "data.info()"
   ]
  },
  {
   "cell_type": "markdown",
   "id": "88b643d0",
   "metadata": {
    "papermill": {
     "duration": 0.017593,
     "end_time": "2024-01-02T11:52:04.081240",
     "exception": false,
     "start_time": "2024-01-02T11:52:04.063647",
     "status": "completed"
    },
    "tags": []
   },
   "source": [
    "- These are the seven columns that will be used on our analysis. \n",
    "- Of these 'survived' column serves as a target column, while the remaining serve as predictors.\n",
    "- We'll analyse the spread of the data as a part of EDA"
   ]
  },
  {
   "cell_type": "code",
   "execution_count": 11,
   "id": "78b18899",
   "metadata": {
    "execution": {
     "iopub.execute_input": "2024-01-02T11:52:04.118734Z",
     "iopub.status.busy": "2024-01-02T11:52:04.118072Z",
     "iopub.status.idle": "2024-01-02T11:52:04.122585Z",
     "shell.execute_reply": "2024-01-02T11:52:04.121695Z"
    },
    "papermill": {
     "duration": 0.025302,
     "end_time": "2024-01-02T11:52:04.125111",
     "exception": false,
     "start_time": "2024-01-02T11:52:04.099809",
     "status": "completed"
    },
    "tags": []
   },
   "outputs": [],
   "source": [
    "discrete_col = ['Sex','Embarked','Pclass','Survived','SibSp','Parch']\n",
    "continuous_col = ['Age','Fare']"
   ]
  },
  {
   "cell_type": "markdown",
   "id": "348a4764",
   "metadata": {
    "papermill": {
     "duration": 0.016419,
     "end_time": "2024-01-02T11:52:04.158045",
     "exception": false,
     "start_time": "2024-01-02T11:52:04.141626",
     "status": "completed"
    },
    "tags": []
   },
   "source": []
  },
  {
   "cell_type": "code",
   "execution_count": 12,
   "id": "f4e836a1",
   "metadata": {
    "execution": {
     "iopub.execute_input": "2024-01-02T11:52:04.194182Z",
     "iopub.status.busy": "2024-01-02T11:52:04.193662Z",
     "iopub.status.idle": "2024-01-02T11:52:04.541071Z",
     "shell.execute_reply": "2024-01-02T11:52:04.539823Z"
    },
    "papermill": {
     "duration": 0.369811,
     "end_time": "2024-01-02T11:52:04.544834",
     "exception": false,
     "start_time": "2024-01-02T11:52:04.175023",
     "status": "completed"
    },
    "tags": []
   },
   "outputs": [
    {
     "data": {
      "text/plain": [
       "<Axes: xlabel='Pclass', ylabel='count'>"
      ]
     },
     "execution_count": 12,
     "metadata": {},
     "output_type": "execute_result"
    },
    {
     "data": {
      "image/png": "[encoded data removed]",
      "text/plain": [
       "<Figure size 640x480 with 1 Axes>"
      ]
     },
     "metadata": {},
     "output_type": "display_data"
    }
   ],
   "source": [
    "sns.countplot(x=data.Pclass,hue = data.Sex)"
   ]
  },
  {
   "cell_type": "code",
   "execution_count": 13,
   "id": "bc810aa9",
   "metadata": {
    "execution": {
     "iopub.execute_input": "2024-01-02T11:52:04.583146Z",
     "iopub.status.busy": "2024-01-02T11:52:04.582433Z",
     "iopub.status.idle": "2024-01-02T11:52:04.861266Z",
     "shell.execute_reply": "2024-01-02T11:52:04.859878Z"
    },
    "papermill": {
     "duration": 0.30044,
     "end_time": "2024-01-02T11:52:04.863717",
     "exception": false,
     "start_time": "2024-01-02T11:52:04.563277",
     "status": "completed"
    },
    "tags": []
   },
   "outputs": [
    {
     "data": {
      "text/plain": [
       "<Axes: xlabel='Embarked', ylabel='count'>"
      ]
     },
     "execution_count": 13,
     "metadata": {},
     "output_type": "execute_result"
    },
    {
     "data": {
      "image/png": "[encoded data removed]",
      "text/plain": [
       "<Figure size 640x480 with 1 Axes>"
      ]
     },
     "metadata": {},
     "output_type": "display_data"
    }
   ],
   "source": [
    "sns.countplot(x=data.Embarked,hue = data.Sex)"
   ]
  },
  {
   "cell_type": "code",
   "execution_count": 14,
   "id": "1bc2ffc5",
   "metadata": {
    "execution": {
     "iopub.execute_input": "2024-01-02T11:52:04.902233Z",
     "iopub.status.busy": "2024-01-02T11:52:04.901745Z",
     "iopub.status.idle": "2024-01-02T11:52:07.258034Z",
     "shell.execute_reply": "2024-01-02T11:52:07.257016Z"
    },
    "papermill": {
     "duration": 2.379184,
     "end_time": "2024-01-02T11:52:07.260052",
     "exception": false,
     "start_time": "2024-01-02T11:52:04.880868",
     "status": "completed"
    },
    "tags": []
   },
   "outputs": [
    {
     "data": {
      "image/png": "[encoded data removed]",
      "text/plain": [
       "<Figure size 1000x2000 with 12 Axes>"
      ]
     },
     "metadata": {},
     "output_type": "display_data"
    }
   ],
   "source": [
    "plt.figure(figsize=(10,20))\n",
    "plt_num=1\n",
    "for i in discrete_col:\n",
    "    plt.subplot(6,2,plt_num)\n",
    "    sns.countplot(x=data[i])\n",
    "    plt.xlabel(i)\n",
    "    plt.subplot(6,2,plt_num+1)\n",
    "    sns.countplot(x=data[i],hue=data.Survived)\n",
    "    plt.xlabel(i)\n",
    "    plt_num+=2"
   ]
  },
  {
   "cell_type": "code",
   "execution_count": 15,
   "id": "fabfeba0",
   "metadata": {
    "execution": {
     "iopub.execute_input": "2024-01-02T11:52:07.300635Z",
     "iopub.status.busy": "2024-01-02T11:52:07.299863Z",
     "iopub.status.idle": "2024-01-02T11:52:07.966017Z",
     "shell.execute_reply": "2024-01-02T11:52:07.964017Z"
    },
    "papermill": {
     "duration": 0.690563,
     "end_time": "2024-01-02T11:52:07.969256",
     "exception": false,
     "start_time": "2024-01-02T11:52:07.278693",
     "status": "completed"
    },
    "tags": []
   },
   "outputs": [
    {
     "name": "stderr",
     "output_type": "stream",
     "text": [
      "/tmp/ipykernel_19/1908917435.py:4: UserWarning: \n",
      "\n",
      "`distplot` is a deprecated function and will be removed in seaborn v0.14.0.\n",
      "\n",
      "Please adapt your code to use either `displot` (a figure-level function with\n",
      "similar flexibility) or `histplot` (an axes-level function for histograms).\n",
      "\n",
      "For a guide to updating your code to use the new functions, please see\n",
      "https://gist.github.com/mwaskom/de44147ed2974457ad6372750bbe5751\n",
      "\n",
      "  sns.distplot(data[i])\n",
      "/tmp/ipykernel_19/1908917435.py:4: UserWarning: \n",
      "\n",
      "`distplot` is a deprecated function and will be removed in seaborn v0.14.0.\n",
      "\n",
      "Please adapt your code to use either `displot` (a figure-level function with\n",
      "similar flexibility) or `histplot` (an axes-level function for histograms).\n",
      "\n",
      "For a guide to updating your code to use the new functions, please see\n",
      "https://gist.github.com/mwaskom/de44147ed2974457ad6372750bbe5751\n",
      "\n",
      "  sns.distplot(data[i])\n"
     ]
    },
    {
     "data": {
      "image/png": "[encoded data removed]",
      "text/plain": [
       "<Figure size 640x480 with 2 Axes>"
      ]
     },
     "metadata": {},
     "output_type": "display_data"
    }
   ],
   "source": [
    "plt_num=1\n",
    "for i in continuous_col:\n",
    "    plt.subplot(2,1,plt_num)\n",
    "    sns.distplot(data[i])\n",
    "    plt_num+=1"
   ]
  },
  {
   "cell_type": "markdown",
   "id": "5a977ad8",
   "metadata": {
    "papermill": {
     "duration": 0.019863,
     "end_time": "2024-01-02T11:52:08.009648",
     "exception": false,
     "start_time": "2024-01-02T11:52:07.989785",
     "status": "completed"
    },
    "tags": []
   },
   "source": [
    "## Insights\n",
    "- On the whole, 1/3rds of the passengers survived. \n",
    "- Over 2/3rds of the total passengers are males. But of them, the survival proportion has been considerably large in females. 75% of females have survived, while, 20% of males have survived. This coud be partially attributed to prioritising females and kids in rescue operations.\n",
    "- Most passengers (over 60%) have embarked at Southampton (S),followed by Cherbourg (C) and the least count of passengers is from Queenstown (Q). But of them, higher survival rate is in those who boarded from Cherbourg (C) (~60%), followed by Queenstown (>50%). The survival proportion in passengers who boarded from southampton is <50%.\n",
    "- Majority of passengers (nearly 60%) belonged to 3rd class, while, the remaining of the passengers are equally distributed in 1 and 2 classes. But if we observe survival, more than 65% of 1st class passengers survived, around 45% of 2nd class passengers survived. The survival rate in 3rd class passengers is too less (~25%)\n",
    "- The count of survived is more in males since their overall count is more. \n",
    "- Most of the passengers (over 2/3rds) were traveling alone without siblings or spouse aboard.Few, around 20% had a sibling/spouse aboard. Very few count had 2 or more siblings/spouse present in the travel. Of those who had 1 sibling/spouse aboard, had more survival percentage. This could be attributed to men's attempt to save their women.\n",
    "- Most of the passgeners, over 75% had no parent/sibling aboard. A little proportion, about 25% had one/two parent/child aboard. Very less number of passengers had more than 2 parents/children aboard. However, of those who had one child/parent aboard, the survival was more. This probably could be attributed to parents trying to save their children first.\n",
    "- Instead of siblings/spouse, we can make a column called family that would include all family members together.\n",
    "- Majority of passengers are in age group of 20-35. There seem to be a good number of toddlers too, on board.\n",
    "- Most people have paid a fare of 6-10. A portion of passengers haven't paid any fare. It could be probably due to any promotional or priveleged offers, or due to age (kids aren't charged until a certain age)."
   ]
  },
  {
   "cell_type": "code",
   "execution_count": 16,
   "id": "b9159056",
   "metadata": {
    "execution": {
     "iopub.execute_input": "2024-01-02T11:52:08.055580Z",
     "iopub.status.busy": "2024-01-02T11:52:08.054851Z",
     "iopub.status.idle": "2024-01-02T11:52:08.061928Z",
     "shell.execute_reply": "2024-01-02T11:52:08.061034Z"
    },
    "papermill": {
     "duration": 0.033714,
     "end_time": "2024-01-02T11:52:08.064329",
     "exception": false,
     "start_time": "2024-01-02T11:52:08.030615",
     "status": "completed"
    },
    "tags": []
   },
   "outputs": [],
   "source": [
    "data['Family']= data.SibSp + data.Parch\n",
    "data.drop(['SibSp','Parch'],axis=1,inplace=True)"
   ]
  },
  {
   "cell_type": "markdown",
   "id": "9e03e73c",
   "metadata": {
    "papermill": {
     "duration": 0.019841,
     "end_time": "2024-01-02T11:52:08.103543",
     "exception": false,
     "start_time": "2024-01-02T11:52:08.083702",
     "status": "completed"
    },
    "tags": []
   },
   "source": [
    "- The final data is now available for us to analyse"
   ]
  },
  {
   "cell_type": "code",
   "execution_count": 17,
   "id": "bf19d522",
   "metadata": {
    "execution": {
     "iopub.execute_input": "2024-01-02T11:52:08.145535Z",
     "iopub.status.busy": "2024-01-02T11:52:08.144484Z",
     "iopub.status.idle": "2024-01-02T11:52:08.153874Z",
     "shell.execute_reply": "2024-01-02T11:52:08.152589Z"
    },
    "papermill": {
     "duration": 0.033588,
     "end_time": "2024-01-02T11:52:08.156302",
     "exception": false,
     "start_time": "2024-01-02T11:52:08.122714",
     "status": "completed"
    },
    "tags": []
   },
   "outputs": [
    {
     "data": {
      "text/plain": [
       "Survived      0\n",
       "Pclass        0\n",
       "Sex           0\n",
       "Age         177\n",
       "Fare          0\n",
       "Embarked      2\n",
       "Family        0\n",
       "dtype: int64"
      ]
     },
     "execution_count": 17,
     "metadata": {},
     "output_type": "execute_result"
    }
   ],
   "source": [
    "data.isnull().sum()"
   ]
  },
  {
   "cell_type": "markdown",
   "id": "7bfc8b10",
   "metadata": {
    "papermill": {
     "duration": 0.019582,
     "end_time": "2024-01-02T11:52:08.195159",
     "exception": false,
     "start_time": "2024-01-02T11:52:08.175577",
     "status": "completed"
    },
    "tags": []
   },
   "source": [
    "- Data imputation: Since the age values follow a close to normal distribution, we may replace the missing values with the mean value of age. (Let us observe mean and median values)\n",
    "- The missing values in embarked column shall be replaced with the mode of the values\n"
   ]
  },
  {
   "cell_type": "code",
   "execution_count": 18,
   "id": "988ed216",
   "metadata": {
    "execution": {
     "iopub.execute_input": "2024-01-02T11:52:08.235200Z",
     "iopub.status.busy": "2024-01-02T11:52:08.234793Z",
     "iopub.status.idle": "2024-01-02T11:52:08.240872Z",
     "shell.execute_reply": "2024-01-02T11:52:08.240013Z"
    },
    "papermill": {
     "duration": 0.028625,
     "end_time": "2024-01-02T11:52:08.243152",
     "exception": false,
     "start_time": "2024-01-02T11:52:08.214527",
     "status": "completed"
    },
    "tags": []
   },
   "outputs": [],
   "source": [
    "#Ceil function is used to avoid too long floating value\n",
    "data.loc[data.Age.isnull(),'Age'] = np.ceil(data.Age.mean())"
   ]
  },
  {
   "cell_type": "code",
   "execution_count": 19,
   "id": "2edaca9e",
   "metadata": {
    "execution": {
     "iopub.execute_input": "2024-01-02T11:52:08.282769Z",
     "iopub.status.busy": "2024-01-02T11:52:08.282336Z",
     "iopub.status.idle": "2024-01-02T11:52:08.292970Z",
     "shell.execute_reply": "2024-01-02T11:52:08.291146Z"
    },
    "papermill": {
     "duration": 0.033815,
     "end_time": "2024-01-02T11:52:08.296050",
     "exception": false,
     "start_time": "2024-01-02T11:52:08.262235",
     "status": "completed"
    },
    "tags": []
   },
   "outputs": [
    {
     "data": {
      "text/plain": [
       "Embarked\n",
       "S    644\n",
       "C    168\n",
       "Q     77\n",
       "Name: count, dtype: int64"
      ]
     },
     "execution_count": 19,
     "metadata": {},
     "output_type": "execute_result"
    }
   ],
   "source": [
    "data.Embarked.value_counts()"
   ]
  },
  {
   "cell_type": "code",
   "execution_count": 20,
   "id": "999aaf74",
   "metadata": {
    "execution": {
     "iopub.execute_input": "2024-01-02T11:52:08.339155Z",
     "iopub.status.busy": "2024-01-02T11:52:08.338660Z",
     "iopub.status.idle": "2024-01-02T11:52:08.346155Z",
     "shell.execute_reply": "2024-01-02T11:52:08.345150Z"
    },
    "papermill": {
     "duration": 0.031345,
     "end_time": "2024-01-02T11:52:08.348261",
     "exception": false,
     "start_time": "2024-01-02T11:52:08.316916",
     "status": "completed"
    },
    "tags": []
   },
   "outputs": [],
   "source": [
    "data.loc[data.Embarked.isnull(),'Embarked'] = data.Embarked.unique()[0]"
   ]
  },
  {
   "cell_type": "markdown",
   "id": "b63e89fe",
   "metadata": {
    "papermill": {
     "duration": 0.021036,
     "end_time": "2024-01-02T11:52:08.388942",
     "exception": false,
     "start_time": "2024-01-02T11:52:08.367906",
     "status": "completed"
    },
    "tags": []
   },
   "source": [
    "- Next step is encoding. \n",
    "- There are two object columns Embarked and Sex. \n",
    "- Since Sex is a non ordinal column, we'll do manual one hot encoding by pd.get dummies()\n",
    "- Embarked column shall be encoded by map function"
   ]
  },
  {
   "cell_type": "code",
   "execution_count": 21,
   "id": "02060d44",
   "metadata": {
    "execution": {
     "iopub.execute_input": "2024-01-02T11:52:08.432812Z",
     "iopub.status.busy": "2024-01-02T11:52:08.432196Z",
     "iopub.status.idle": "2024-01-02T11:52:08.441371Z",
     "shell.execute_reply": "2024-01-02T11:52:08.440173Z"
    },
    "papermill": {
     "duration": 0.03479,
     "end_time": "2024-01-02T11:52:08.444810",
     "exception": false,
     "start_time": "2024-01-02T11:52:08.410020",
     "status": "completed"
    },
    "tags": []
   },
   "outputs": [
    {
     "data": {
      "text/plain": [
       "Sex\n",
       "male      577\n",
       "female    314\n",
       "Name: count, dtype: int64"
      ]
     },
     "execution_count": 21,
     "metadata": {},
     "output_type": "execute_result"
    }
   ],
   "source": [
    "data.Sex.value_counts()"
   ]
  },
  {
   "cell_type": "code",
   "execution_count": 22,
   "id": "849a9057",
   "metadata": {
    "execution": {
     "iopub.execute_input": "2024-01-02T11:52:08.487052Z",
     "iopub.status.busy": "2024-01-02T11:52:08.486654Z",
     "iopub.status.idle": "2024-01-02T11:52:08.495172Z",
     "shell.execute_reply": "2024-01-02T11:52:08.493076Z"
    },
    "papermill": {
     "duration": 0.032713,
     "end_time": "2024-01-02T11:52:08.498770",
     "exception": false,
     "start_time": "2024-01-02T11:52:08.466057",
     "status": "completed"
    },
    "tags": []
   },
   "outputs": [
    {
     "data": {
      "text/plain": [
       "array(['male', 'female'], dtype=object)"
      ]
     },
     "execution_count": 22,
     "metadata": {},
     "output_type": "execute_result"
    }
   ],
   "source": [
    "data.Sex.unique()"
   ]
  },
  {
   "cell_type": "code",
   "execution_count": 23,
   "id": "1f4ddbdb",
   "metadata": {
    "execution": {
     "iopub.execute_input": "2024-01-02T11:52:08.543427Z",
     "iopub.status.busy": "2024-01-02T11:52:08.542984Z",
     "iopub.status.idle": "2024-01-02T11:52:08.554322Z",
     "shell.execute_reply": "2024-01-02T11:52:08.553227Z"
    },
    "papermill": {
     "duration": 0.037064,
     "end_time": "2024-01-02T11:52:08.557276",
     "exception": false,
     "start_time": "2024-01-02T11:52:08.520212",
     "status": "completed"
    },
    "tags": []
   },
   "outputs": [],
   "source": [
    "data['Male'] = pd.get_dummies(data.Sex)['male']\n",
    "data['Female'] = pd.get_dummies(data.Sex)['female']\n",
    "data.drop('Sex',axis=1,inplace=True)"
   ]
  },
  {
   "cell_type": "code",
   "execution_count": 24,
   "id": "778071d0",
   "metadata": {
    "execution": {
     "iopub.execute_input": "2024-01-02T11:52:08.598266Z",
     "iopub.status.busy": "2024-01-02T11:52:08.597833Z",
     "iopub.status.idle": "2024-01-02T11:52:08.605597Z",
     "shell.execute_reply": "2024-01-02T11:52:08.604301Z"
    },
    "papermill": {
     "duration": 0.031142,
     "end_time": "2024-01-02T11:52:08.608011",
     "exception": false,
     "start_time": "2024-01-02T11:52:08.576869",
     "status": "completed"
    },
    "tags": []
   },
   "outputs": [
    {
     "data": {
      "text/plain": [
       "array(['S', 'C', 'Q'], dtype=object)"
      ]
     },
     "execution_count": 24,
     "metadata": {},
     "output_type": "execute_result"
    }
   ],
   "source": [
    "data.Embarked.unique()"
   ]
  },
  {
   "cell_type": "code",
   "execution_count": 25,
   "id": "4e2e4bae",
   "metadata": {
    "execution": {
     "iopub.execute_input": "2024-01-02T11:52:08.662266Z",
     "iopub.status.busy": "2024-01-02T11:52:08.661820Z",
     "iopub.status.idle": "2024-01-02T11:52:08.668256Z",
     "shell.execute_reply": "2024-01-02T11:52:08.667029Z"
    },
    "papermill": {
     "duration": 0.041021,
     "end_time": "2024-01-02T11:52:08.671073",
     "exception": false,
     "start_time": "2024-01-02T11:52:08.630052",
     "status": "completed"
    },
    "tags": []
   },
   "outputs": [],
   "source": [
    "data.Embarked = data.Embarked.map({'S':0,'C':1,'Q':2})"
   ]
  },
  {
   "cell_type": "code",
   "execution_count": 26,
   "id": "6e3de351",
   "metadata": {
    "execution": {
     "iopub.execute_input": "2024-01-02T11:52:08.712194Z",
     "iopub.status.busy": "2024-01-02T11:52:08.711518Z",
     "iopub.status.idle": "2024-01-02T11:52:09.153181Z",
     "shell.execute_reply": "2024-01-02T11:52:09.152049Z"
    },
    "papermill": {
     "duration": 0.465973,
     "end_time": "2024-01-02T11:52:09.156835",
     "exception": false,
     "start_time": "2024-01-02T11:52:08.690862",
     "status": "completed"
    },
    "tags": []
   },
   "outputs": [
    {
     "data": {
      "text/plain": [
       "<Axes: >"
      ]
     },
     "execution_count": 26,
     "metadata": {},
     "output_type": "execute_result"
    },
    {
     "data": {
      "image/png": "[encoded data removed]",
      "text/plain": [
       "<Figure size 640x480 with 2 Axes>"
      ]
     },
     "metadata": {},
     "output_type": "display_data"
    }
   ],
   "source": [
    "#Observing heat map of correlation\n",
    "sns.heatmap(data.corr())"
   ]
  },
  {
   "cell_type": "markdown",
   "id": "59548396",
   "metadata": {
    "papermill": {
     "duration": 0.020441,
     "end_time": "2024-01-02T11:52:09.198866",
     "exception": false,
     "start_time": "2024-01-02T11:52:09.178425",
     "status": "completed"
    },
    "tags": []
   },
   "source": [
    "- The heat map shows no evidence of strong correlation between features, which might bias the model.\n",
    "- The high negative correlation between the male and female columns is acceptable, as they were dummies from same column\n",
    "- We can now proceed to scaling to get all features values in common range of 0-1"
   ]
  },
  {
   "cell_type": "code",
   "execution_count": 27,
   "id": "30db28a7",
   "metadata": {
    "execution": {
     "iopub.execute_input": "2024-01-02T11:52:09.243509Z",
     "iopub.status.busy": "2024-01-02T11:52:09.243137Z",
     "iopub.status.idle": "2024-01-02T11:52:09.250486Z",
     "shell.execute_reply": "2024-01-02T11:52:09.249273Z"
    },
    "papermill": {
     "duration": 0.031263,
     "end_time": "2024-01-02T11:52:09.252617",
     "exception": false,
     "start_time": "2024-01-02T11:52:09.221354",
     "status": "completed"
    },
    "tags": []
   },
   "outputs": [],
   "source": [
    "#Defining predictor and target variables\n",
    "x = data.drop('Survived',axis=1)\n",
    "y = data.Survived"
   ]
  },
  {
   "cell_type": "code",
   "execution_count": 28,
   "id": "19afd00a",
   "metadata": {
    "execution": {
     "iopub.execute_input": "2024-01-02T11:52:09.295116Z",
     "iopub.status.busy": "2024-01-02T11:52:09.294105Z",
     "iopub.status.idle": "2024-01-02T11:52:09.308668Z",
     "shell.execute_reply": "2024-01-02T11:52:09.307476Z"
    },
    "papermill": {
     "duration": 0.038071,
     "end_time": "2024-01-02T11:52:09.310912",
     "exception": false,
     "start_time": "2024-01-02T11:52:09.272841",
     "status": "completed"
    },
    "tags": []
   },
   "outputs": [
    {
     "data": {
      "text/html": [
       "<div>\n",
       "<style scoped>\n",
       "    .dataframe tbody tr th:only-of-type {\n",
       "        vertical-align: middle;\n",
       "    }\n",
       "\n",
       "    .dataframe tbody tr th {\n",
       "        vertical-align: top;\n",
       "    }\n",
       "\n",
       "    .dataframe thead th {\n",
       "        text-align: right;\n",
       "    }\n",
       "</style>\n",
       "<table border=\"1\" class=\"dataframe\">\n",
       "  <thead>\n",
       "    <tr style=\"text-align: right;\">\n",
       "      <th></th>\n",
       "      <th>Pclass</th>\n",
       "      <th>Age</th>\n",
       "      <th>Fare</th>\n",
       "      <th>Embarked</th>\n",
       "      <th>Family</th>\n",
       "      <th>Male</th>\n",
       "      <th>Female</th>\n",
       "    </tr>\n",
       "  </thead>\n",
       "  <tbody>\n",
       "    <tr>\n",
       "      <th>0</th>\n",
       "      <td>3</td>\n",
       "      <td>22.0</td>\n",
       "      <td>7.2500</td>\n",
       "      <td>0</td>\n",
       "      <td>1</td>\n",
       "      <td>True</td>\n",
       "      <td>False</td>\n",
       "    </tr>\n",
       "    <tr>\n",
       "      <th>1</th>\n",
       "      <td>1</td>\n",
       "      <td>38.0</td>\n",
       "      <td>71.2833</td>\n",
       "      <td>1</td>\n",
       "      <td>1</td>\n",
       "      <td>False</td>\n",
       "      <td>True</td>\n",
       "    </tr>\n",
       "    <tr>\n",
       "      <th>2</th>\n",
       "      <td>3</td>\n",
       "      <td>26.0</td>\n",
       "      <td>7.9250</td>\n",
       "      <td>0</td>\n",
       "      <td>0</td>\n",
       "      <td>False</td>\n",
       "      <td>True</td>\n",
       "    </tr>\n",
       "    <tr>\n",
       "      <th>3</th>\n",
       "      <td>1</td>\n",
       "      <td>35.0</td>\n",
       "      <td>53.1000</td>\n",
       "      <td>0</td>\n",
       "      <td>1</td>\n",
       "      <td>False</td>\n",
       "      <td>True</td>\n",
       "    </tr>\n",
       "    <tr>\n",
       "      <th>4</th>\n",
       "      <td>3</td>\n",
       "      <td>35.0</td>\n",
       "      <td>8.0500</td>\n",
       "      <td>0</td>\n",
       "      <td>0</td>\n",
       "      <td>True</td>\n",
       "      <td>False</td>\n",
       "    </tr>\n",
       "  </tbody>\n",
       "</table>\n",
       "</div>"
      ],
      "text/plain": [
       "   Pclass   Age     Fare  Embarked  Family   Male  Female\n",
       "0       3  22.0   7.2500         0       1   True   False\n",
       "1       1  38.0  71.2833         1       1  False    True\n",
       "2       3  26.0   7.9250         0       0  False    True\n",
       "3       1  35.0  53.1000         0       1  False    True\n",
       "4       3  35.0   8.0500         0       0   True   False"
      ]
     },
     "execution_count": 28,
     "metadata": {},
     "output_type": "execute_result"
    }
   ],
   "source": [
    "x.head()"
   ]
  },
  {
   "cell_type": "code",
   "execution_count": 29,
   "id": "a6c4b8b6",
   "metadata": {
    "execution": {
     "iopub.execute_input": "2024-01-02T11:52:09.354669Z",
     "iopub.status.busy": "2024-01-02T11:52:09.353437Z",
     "iopub.status.idle": "2024-01-02T11:52:09.361143Z",
     "shell.execute_reply": "2024-01-02T11:52:09.360155Z"
    },
    "papermill": {
     "duration": 0.031746,
     "end_time": "2024-01-02T11:52:09.363281",
     "exception": false,
     "start_time": "2024-01-02T11:52:09.331535",
     "status": "completed"
    },
    "tags": []
   },
   "outputs": [
    {
     "data": {
      "text/plain": [
       "Survived\n",
       "0    549\n",
       "1    342\n",
       "Name: count, dtype: int64"
      ]
     },
     "execution_count": 29,
     "metadata": {},
     "output_type": "execute_result"
    }
   ],
   "source": [
    "y.value_counts()"
   ]
  },
  {
   "cell_type": "markdown",
   "id": "37f66f88",
   "metadata": {
    "papermill": {
     "duration": 0.020544,
     "end_time": "2024-01-02T11:52:09.406372",
     "exception": false,
     "start_time": "2024-01-02T11:52:09.385828",
     "status": "completed"
    },
    "tags": []
   },
   "source": [
    "- The value counts do not indicate severe imbalance in data set. The existing imbalance is acceptable."
   ]
  },
  {
   "cell_type": "code",
   "execution_count": 30,
   "id": "c662b092",
   "metadata": {
    "execution": {
     "iopub.execute_input": "2024-01-02T11:52:09.452432Z",
     "iopub.status.busy": "2024-01-02T11:52:09.451733Z",
     "iopub.status.idle": "2024-01-02T11:52:09.650918Z",
     "shell.execute_reply": "2024-01-02T11:52:09.649622Z"
    },
    "papermill": {
     "duration": 0.224768,
     "end_time": "2024-01-02T11:52:09.653473",
     "exception": false,
     "start_time": "2024-01-02T11:52:09.428705",
     "status": "completed"
    },
    "tags": []
   },
   "outputs": [
    {
     "data": {
      "text/html": [
       "<div>\n",
       "<style scoped>\n",
       "    .dataframe tbody tr th:only-of-type {\n",
       "        vertical-align: middle;\n",
       "    }\n",
       "\n",
       "    .dataframe tbody tr th {\n",
       "        vertical-align: top;\n",
       "    }\n",
       "\n",
       "    .dataframe thead th {\n",
       "        text-align: right;\n",
       "    }\n",
       "</style>\n",
       "<table border=\"1\" class=\"dataframe\">\n",
       "  <thead>\n",
       "    <tr style=\"text-align: right;\">\n",
       "      <th></th>\n",
       "      <th>Pclass</th>\n",
       "      <th>Age</th>\n",
       "      <th>Fare</th>\n",
       "      <th>Embarked</th>\n",
       "      <th>Family</th>\n",
       "      <th>Male</th>\n",
       "      <th>Female</th>\n",
       "    </tr>\n",
       "  </thead>\n",
       "  <tbody>\n",
       "    <tr>\n",
       "      <th>0</th>\n",
       "      <td>1.0</td>\n",
       "      <td>0.271174</td>\n",
       "      <td>0.014151</td>\n",
       "      <td>0.0</td>\n",
       "      <td>0.1</td>\n",
       "      <td>1.0</td>\n",
       "      <td>0.0</td>\n",
       "    </tr>\n",
       "    <tr>\n",
       "      <th>1</th>\n",
       "      <td>0.0</td>\n",
       "      <td>0.472229</td>\n",
       "      <td>0.139136</td>\n",
       "      <td>0.5</td>\n",
       "      <td>0.1</td>\n",
       "      <td>0.0</td>\n",
       "      <td>1.0</td>\n",
       "    </tr>\n",
       "    <tr>\n",
       "      <th>2</th>\n",
       "      <td>1.0</td>\n",
       "      <td>0.321438</td>\n",
       "      <td>0.015469</td>\n",
       "      <td>0.0</td>\n",
       "      <td>0.0</td>\n",
       "      <td>0.0</td>\n",
       "      <td>1.0</td>\n",
       "    </tr>\n",
       "    <tr>\n",
       "      <th>3</th>\n",
       "      <td>0.0</td>\n",
       "      <td>0.434531</td>\n",
       "      <td>0.103644</td>\n",
       "      <td>0.0</td>\n",
       "      <td>0.1</td>\n",
       "      <td>0.0</td>\n",
       "      <td>1.0</td>\n",
       "    </tr>\n",
       "    <tr>\n",
       "      <th>4</th>\n",
       "      <td>1.0</td>\n",
       "      <td>0.434531</td>\n",
       "      <td>0.015713</td>\n",
       "      <td>0.0</td>\n",
       "      <td>0.0</td>\n",
       "      <td>1.0</td>\n",
       "      <td>0.0</td>\n",
       "    </tr>\n",
       "  </tbody>\n",
       "</table>\n",
       "</div>"
      ],
      "text/plain": [
       "   Pclass       Age      Fare  Embarked  Family  Male  Female\n",
       "0     1.0  0.271174  0.014151       0.0     0.1   1.0     0.0\n",
       "1     0.0  0.472229  0.139136       0.5     0.1   0.0     1.0\n",
       "2     1.0  0.321438  0.015469       0.0     0.0   0.0     1.0\n",
       "3     0.0  0.434531  0.103644       0.0     0.1   0.0     1.0\n",
       "4     1.0  0.434531  0.015713       0.0     0.0   1.0     0.0"
      ]
     },
     "execution_count": 30,
     "metadata": {},
     "output_type": "execute_result"
    }
   ],
   "source": [
    "from sklearn.preprocessing import MinMaxScaler\n",
    "MMS = MinMaxScaler()\n",
    "x_col = x.columns\n",
    "x = pd.DataFrame(MMS.fit_transform(x),columns=x_col)\n",
    "x.head()"
   ]
  },
  {
   "cell_type": "markdown",
   "id": "11801bf1",
   "metadata": {
    "papermill": {
     "duration": 0.020725,
     "end_time": "2024-01-02T11:52:09.698345",
     "exception": false,
     "start_time": "2024-01-02T11:52:09.677620",
     "status": "completed"
    },
    "tags": []
   },
   "source": [
    "- We now have a encoded and scaled data, ready to be modeled with classification algorithms. \n",
    "- Since the data is moderately balanced, we dont have to resort to synthetic data.\n",
    "- Since this is a binary classification problem, we shall apply Logistic Regression, KNN, Naive Bayes, SVM, Decision Tree, RF Classifier, XGB Classifier with hyper parameter tuning wherever possible.\n",
    "- Let us use 10% of existing data for testing our models, so that we can pick the right model."
   ]
  },
  {
   "cell_type": "code",
   "execution_count": 31,
   "id": "0c0eb515",
   "metadata": {
    "execution": {
     "iopub.execute_input": "2024-01-02T11:52:09.745581Z",
     "iopub.status.busy": "2024-01-02T11:52:09.745149Z",
     "iopub.status.idle": "2024-01-02T11:52:10.022726Z",
     "shell.execute_reply": "2024-01-02T11:52:10.021126Z"
    },
    "papermill": {
     "duration": 0.304539,
     "end_time": "2024-01-02T11:52:10.025571",
     "exception": false,
     "start_time": "2024-01-02T11:52:09.721032",
     "status": "completed"
    },
    "tags": []
   },
   "outputs": [],
   "source": [
    "#Train test split and importing metrics\n",
    "from sklearn.model_selection import train_test_split\n",
    "from sklearn.metrics import accuracy_score, precision_score, recall_score, f1_score, confusion_matrix, classification_report\n",
    "x_train,x_test,y_train,y_test = train_test_split(x,y,test_size=0.1,random_state=42)"
   ]
  },
  {
   "cell_type": "code",
   "execution_count": 32,
   "id": "c31ec0a7",
   "metadata": {
    "execution": {
     "iopub.execute_input": "2024-01-02T11:52:10.074803Z",
     "iopub.status.busy": "2024-01-02T11:52:10.074377Z",
     "iopub.status.idle": "2024-01-02T11:52:10.083299Z",
     "shell.execute_reply": "2024-01-02T11:52:10.081577Z"
    },
    "papermill": {
     "duration": 0.037638,
     "end_time": "2024-01-02T11:52:10.087034",
     "exception": false,
     "start_time": "2024-01-02T11:52:10.049396",
     "status": "completed"
    },
    "tags": []
   },
   "outputs": [],
   "source": [
    "#Empty data frame for results\n",
    "Results = pd.DataFrame(index=['Accuracy','Precision','Recall','F1'])"
   ]
  },
  {
   "cell_type": "code",
   "execution_count": 33,
   "id": "91592330",
   "metadata": {
    "execution": {
     "iopub.execute_input": "2024-01-02T11:52:10.133917Z",
     "iopub.status.busy": "2024-01-02T11:52:10.133229Z",
     "iopub.status.idle": "2024-01-02T11:52:10.286716Z",
     "shell.execute_reply": "2024-01-02T11:52:10.285387Z"
    },
    "papermill": {
     "duration": 0.18017,
     "end_time": "2024-01-02T11:52:10.289570",
     "exception": false,
     "start_time": "2024-01-02T11:52:10.109400",
     "status": "completed"
    },
    "tags": []
   },
   "outputs": [
    {
     "name": "stdout",
     "output_type": "stream",
     "text": [
      "Accuracy:  0.8333333333333334 \n",
      "Precision:  0.7837837837837838 \n",
      "Recall Score 0.8055555555555556 \n",
      "F1 Score 0.7945205479452055 \n",
      "Confusion Matrix\n",
      " [[46  8]\n",
      " [ 7 29]]\n",
      "              precision    recall  f1-score   support\n",
      "\n",
      "           0       0.87      0.85      0.86        54\n",
      "           1       0.78      0.81      0.79        36\n",
      "\n",
      "    accuracy                           0.83        90\n",
      "   macro avg       0.83      0.83      0.83        90\n",
      "weighted avg       0.83      0.83      0.83        90\n",
      "\n"
     ]
    }
   ],
   "source": [
    "#Logistic Regression\n",
    "from sklearn.linear_model import LogisticRegression\n",
    "LR = LogisticRegression()\n",
    "LR.fit(x_train,y_train)\n",
    "y_pred = LR.predict(x_test)\n",
    "\n",
    "acc = accuracy_score(y_test,y_pred)\n",
    "pr = precision_score(y_test,y_pred)\n",
    "re = recall_score(y_test,y_pred)\n",
    "f1 = f1_score(y_test,y_pred)\n",
    "cm = confusion_matrix(y_test,y_pred)\n",
    "print('Accuracy: ',acc,'\\nPrecision: ',pr,'\\nRecall Score', re,'\\nF1 Score', f1, '\\nConfusion Matrix\\n', cm)\n",
    "print(classification_report(y_test,y_pred))\n",
    "Results['LogReg'] = [acc,pr,re,f1]"
   ]
  },
  {
   "cell_type": "code",
   "execution_count": 34,
   "id": "c0c38c5e",
   "metadata": {
    "execution": {
     "iopub.execute_input": "2024-01-02T11:52:10.335355Z",
     "iopub.status.busy": "2024-01-02T11:52:10.334907Z",
     "iopub.status.idle": "2024-01-02T11:52:10.448601Z",
     "shell.execute_reply": "2024-01-02T11:52:10.446918Z"
    },
    "papermill": {
     "duration": 0.141051,
     "end_time": "2024-01-02T11:52:10.452461",
     "exception": false,
     "start_time": "2024-01-02T11:52:10.311410",
     "status": "completed"
    },
    "tags": []
   },
   "outputs": [
    {
     "name": "stdout",
     "output_type": "stream",
     "text": [
      "Accuracy:  0.8444444444444444 \n",
      "Precision:  0.7894736842105263 \n",
      "Recall Score 0.8333333333333334 \n",
      "F1 Score 0.8108108108108109 \n",
      "Confusion Matrix\n",
      " [[46  8]\n",
      " [ 6 30]]\n",
      "              precision    recall  f1-score   support\n",
      "\n",
      "           0       0.88      0.85      0.87        54\n",
      "           1       0.79      0.83      0.81        36\n",
      "\n",
      "    accuracy                           0.84        90\n",
      "   macro avg       0.84      0.84      0.84        90\n",
      "weighted avg       0.85      0.84      0.85        90\n",
      "\n"
     ]
    }
   ],
   "source": [
    "#KNN\n",
    "from sklearn.neighbors import KNeighborsClassifier\n",
    "KNN5 = KNeighborsClassifier(n_neighbors = 5)\n",
    "KNN5.fit(x_train,y_train)\n",
    "y_pred = KNN5.predict(x_test)\n",
    "\n",
    "acc = accuracy_score(y_test,y_pred)\n",
    "pr = precision_score(y_test,y_pred)\n",
    "re = recall_score(y_test,y_pred)\n",
    "f1 = f1_score(y_test,y_pred)\n",
    "cm = confusion_matrix(y_test,y_pred)\n",
    "print('Accuracy: ',acc,'\\nPrecision: ',pr,'\\nRecall Score', re,'\\nF1 Score', f1, '\\nConfusion Matrix\\n', cm)\n",
    "print(classification_report(y_test,y_pred))\n",
    "Results['KNN'] = [acc,pr,re,f1]"
   ]
  },
  {
   "cell_type": "code",
   "execution_count": 35,
   "id": "92915076",
   "metadata": {
    "execution": {
     "iopub.execute_input": "2024-01-02T11:52:10.499608Z",
     "iopub.status.busy": "2024-01-02T11:52:10.499195Z",
     "iopub.status.idle": "2024-01-02T11:52:10.540341Z",
     "shell.execute_reply": "2024-01-02T11:52:10.537420Z"
    },
    "papermill": {
     "duration": 0.068106,
     "end_time": "2024-01-02T11:52:10.543391",
     "exception": false,
     "start_time": "2024-01-02T11:52:10.475285",
     "status": "completed"
    },
    "tags": []
   },
   "outputs": [
    {
     "name": "stdout",
     "output_type": "stream",
     "text": [
      "Accuracy:  0.8111111111111111 \n",
      "Precision:  0.7567567567567568 \n",
      "Recall Score 0.7777777777777778 \n",
      "F1 Score 0.7671232876712328 \n",
      "Confusion Matrix\n",
      " [[45  9]\n",
      " [ 8 28]]\n",
      "              precision    recall  f1-score   support\n",
      "\n",
      "           0       0.85      0.83      0.84        54\n",
      "           1       0.76      0.78      0.77        36\n",
      "\n",
      "    accuracy                           0.81        90\n",
      "   macro avg       0.80      0.81      0.80        90\n",
      "weighted avg       0.81      0.81      0.81        90\n",
      "\n"
     ]
    }
   ],
   "source": [
    "#Naive Bayes\n",
    "from sklearn.naive_bayes import MultinomialNB\n",
    "nb = MultinomialNB()  #Creating instance\n",
    "nb.fit(x_train,y_train)\n",
    "y_pred = nb.predict(x_test)\n",
    "\n",
    "acc = accuracy_score(y_test,y_pred)\n",
    "pr = precision_score(y_test,y_pred)\n",
    "re = recall_score(y_test,y_pred)\n",
    "f1 = f1_score(y_test,y_pred)\n",
    "cm = confusion_matrix(y_test,y_pred)\n",
    "print('Accuracy: ',acc,'\\nPrecision: ',pr,'\\nRecall Score', re,'\\nF1 Score', f1, '\\nConfusion Matrix\\n', cm)\n",
    "print(classification_report(y_test,y_pred))\n",
    "Results['NB'] = [acc,pr,re,f1]"
   ]
  },
  {
   "cell_type": "code",
   "execution_count": 36,
   "id": "490f94a3",
   "metadata": {
    "execution": {
     "iopub.execute_input": "2024-01-02T11:52:10.590923Z",
     "iopub.status.busy": "2024-01-02T11:52:10.590319Z",
     "iopub.status.idle": "2024-01-02T11:52:10.661710Z",
     "shell.execute_reply": "2024-01-02T11:52:10.659686Z"
    },
    "papermill": {
     "duration": 0.097787,
     "end_time": "2024-01-02T11:52:10.664684",
     "exception": false,
     "start_time": "2024-01-02T11:52:10.566897",
     "status": "completed"
    },
    "tags": []
   },
   "outputs": [
    {
     "name": "stdout",
     "output_type": "stream",
     "text": [
      "Accuracy:  0.7777777777777778 \n",
      "Precision:  0.6904761904761905 \n",
      "Recall Score 0.8055555555555556 \n",
      "F1 Score 0.7435897435897436 \n",
      "Confusion Matrix\n",
      " [[41 13]\n",
      " [ 7 29]]\n",
      "              precision    recall  f1-score   support\n",
      "\n",
      "           0       0.85      0.76      0.80        54\n",
      "           1       0.69      0.81      0.74        36\n",
      "\n",
      "    accuracy                           0.78        90\n",
      "   macro avg       0.77      0.78      0.77        90\n",
      "weighted avg       0.79      0.78      0.78        90\n",
      "\n"
     ]
    }
   ],
   "source": [
    "#Decision Tree Classifier\n",
    "from sklearn.tree import DecisionTreeClassifier\n",
    "dt = DecisionTreeClassifier()\n",
    "dt.fit(x_train,y_train)\n",
    "y_pred=dt.predict(x_test)\n",
    "\n",
    "acc = accuracy_score(y_test,y_pred)\n",
    "pr = precision_score(y_test,y_pred)\n",
    "re = recall_score(y_test,y_pred)\n",
    "f1 = f1_score(y_test,y_pred)\n",
    "cm = confusion_matrix(y_test,y_pred)\n",
    "print('Accuracy: ',acc,'\\nPrecision: ',pr,'\\nRecall Score', re,'\\nF1 Score', f1, '\\nConfusion Matrix\\n', cm)\n",
    "print(classification_report(y_test,y_pred))\n",
    "Results['DT'] = [acc,pr,re,f1]"
   ]
  },
  {
   "cell_type": "code",
   "execution_count": 37,
   "id": "b41765b0",
   "metadata": {
    "execution": {
     "iopub.execute_input": "2024-01-02T11:52:10.712046Z",
     "iopub.status.busy": "2024-01-02T11:52:10.711588Z",
     "iopub.status.idle": "2024-01-02T11:52:11.074015Z",
     "shell.execute_reply": "2024-01-02T11:52:11.072059Z"
    },
    "papermill": {
     "duration": 0.389721,
     "end_time": "2024-01-02T11:52:11.077786",
     "exception": false,
     "start_time": "2024-01-02T11:52:10.688065",
     "status": "completed"
    },
    "tags": []
   },
   "outputs": [
    {
     "name": "stdout",
     "output_type": "stream",
     "text": [
      "Accuracy:  0.8222222222222222 \n",
      "Precision:  0.75 \n",
      "Recall Score 0.8333333333333334 \n",
      "F1 Score 0.7894736842105262 \n",
      "Confusion Matrix\n",
      " [[44 10]\n",
      " [ 6 30]]\n",
      "              precision    recall  f1-score   support\n",
      "\n",
      "           0       0.88      0.81      0.85        54\n",
      "           1       0.75      0.83      0.79        36\n",
      "\n",
      "    accuracy                           0.82        90\n",
      "   macro avg       0.81      0.82      0.82        90\n",
      "weighted avg       0.83      0.82      0.82        90\n",
      "\n"
     ]
    }
   ],
   "source": [
    "#Random forest\n",
    "from sklearn.ensemble import RandomForestClassifier\n",
    "rf_clf = RandomForestClassifier(n_estimators=100)\n",
    "rf_clf.fit(x_train,y_train)\n",
    "y_pred = rf_clf.predict(x_test)\n",
    "\n",
    "acc = accuracy_score(y_test,y_pred)\n",
    "pr = precision_score(y_test,y_pred)\n",
    "re = recall_score(y_test,y_pred)\n",
    "f1 = f1_score(y_test,y_pred)\n",
    "cm = confusion_matrix(y_test,y_pred)\n",
    "print('Accuracy: ',acc,'\\nPrecision: ',pr,'\\nRecall Score', re,'\\nF1 Score', f1, '\\nConfusion Matrix\\n', cm)\n",
    "print(classification_report(y_test,y_pred))\n",
    "Results['RF'] = [acc,pr,re,f1]"
   ]
  },
  {
   "cell_type": "code",
   "execution_count": 38,
   "id": "d6d0b2f7",
   "metadata": {
    "execution": {
     "iopub.execute_input": "2024-01-02T11:52:11.124792Z",
     "iopub.status.busy": "2024-01-02T11:52:11.124334Z",
     "iopub.status.idle": "2024-01-02T11:52:11.175837Z",
     "shell.execute_reply": "2024-01-02T11:52:11.173833Z"
    },
    "papermill": {
     "duration": 0.079194,
     "end_time": "2024-01-02T11:52:11.178720",
     "exception": false,
     "start_time": "2024-01-02T11:52:11.099526",
     "status": "completed"
    },
    "tags": []
   },
   "outputs": [
    {
     "name": "stdout",
     "output_type": "stream",
     "text": [
      "Accuracy:  0.8333333333333334 \n",
      "Precision:  0.8387096774193549 \n",
      "Recall Score 0.7222222222222222 \n",
      "F1 Score 0.7761194029850746 \n",
      "Confusion Matrix\n",
      " [[49  5]\n",
      " [10 26]]\n",
      "              precision    recall  f1-score   support\n",
      "\n",
      "           0       0.83      0.91      0.87        54\n",
      "           1       0.84      0.72      0.78        36\n",
      "\n",
      "    accuracy                           0.83        90\n",
      "   macro avg       0.83      0.81      0.82        90\n",
      "weighted avg       0.83      0.83      0.83        90\n",
      "\n"
     ]
    }
   ],
   "source": [
    "#SVM\n",
    "from sklearn.svm import SVC\n",
    "svc = SVC()\n",
    "svc.fit(x_train,y_train)\n",
    "y_pred = svc.predict(x_test)\n",
    "\n",
    "acc = accuracy_score(y_test,y_pred)\n",
    "pr = precision_score(y_test,y_pred)\n",
    "re = recall_score(y_test,y_pred)\n",
    "f1 = f1_score(y_test,y_pred)\n",
    "cm = confusion_matrix(y_test,y_pred)\n",
    "print('Accuracy: ',acc,'\\nPrecision: ',pr,'\\nRecall Score', re,'\\nF1 Score', f1, '\\nConfusion Matrix\\n', cm)\n",
    "print(classification_report(y_test,y_pred))\n",
    "Results['SVM'] = [acc,pr,re,f1]"
   ]
  },
  {
   "cell_type": "code",
   "execution_count": 39,
   "id": "3b5a5139",
   "metadata": {
    "execution": {
     "iopub.execute_input": "2024-01-02T11:52:11.227377Z",
     "iopub.status.busy": "2024-01-02T11:52:11.226916Z",
     "iopub.status.idle": "2024-01-02T11:52:11.323296Z",
     "shell.execute_reply": "2024-01-02T11:52:11.321966Z"
    },
    "papermill": {
     "duration": 0.12358,
     "end_time": "2024-01-02T11:52:11.325722",
     "exception": false,
     "start_time": "2024-01-02T11:52:11.202142",
     "status": "completed"
    },
    "tags": []
   },
   "outputs": [
    {
     "name": "stdout",
     "output_type": "stream",
     "text": [
      "Accuracy:  0.8444444444444444 \n",
      "Precision:  0.8235294117647058 \n",
      "Recall Score 0.7777777777777778 \n",
      "F1 Score 0.7999999999999999 \n",
      "Confusion Matrix\n",
      " [[48  6]\n",
      " [ 8 28]]\n",
      "              precision    recall  f1-score   support\n",
      "\n",
      "           0       0.86      0.89      0.87        54\n",
      "           1       0.82      0.78      0.80        36\n",
      "\n",
      "    accuracy                           0.84        90\n",
      "   macro avg       0.84      0.83      0.84        90\n",
      "weighted avg       0.84      0.84      0.84        90\n",
      "\n"
     ]
    },
    {
     "name": "stderr",
     "output_type": "stream",
     "text": [
      "/opt/conda/lib/python3.10/site-packages/sklearn/ensemble/_base.py:166: FutureWarning: `base_estimator` was renamed to `estimator` in version 1.2 and will be removed in 1.4.\n",
      "  warnings.warn(\n"
     ]
    }
   ],
   "source": [
    "#Bagging with KNN as base\n",
    "from sklearn.ensemble import BaggingClassifier\n",
    "KNN5 = KNeighborsClassifier(n_neighbors = 5)\n",
    "model_bagg=BaggingClassifier(base_estimator=KNN5,n_estimators=20)\n",
    "model_bagg.fit(x_train,y_train)  \n",
    "y_pred=model_bagg.predict(x_test)\n",
    "\n",
    "acc = accuracy_score(y_test,y_pred)\n",
    "pr = precision_score(y_test,y_pred)\n",
    "re = recall_score(y_test,y_pred)\n",
    "f1 = f1_score(y_test,y_pred)\n",
    "cm = confusion_matrix(y_test,y_pred)\n",
    "print('Accuracy: ',acc,'\\nPrecision: ',pr,'\\nRecall Score', re,'\\nF1 Score', f1, '\\nConfusion Matrix\\n', cm)\n",
    "print(classification_report(y_test,y_pred))\n",
    "Results['KNN with bagging'] = [acc,pr,re,f1]"
   ]
  },
  {
   "cell_type": "code",
   "execution_count": 40,
   "id": "1671a5d6",
   "metadata": {
    "execution": {
     "iopub.execute_input": "2024-01-02T11:52:11.370437Z",
     "iopub.status.busy": "2024-01-02T11:52:11.370003Z",
     "iopub.status.idle": "2024-01-02T11:52:11.547646Z",
     "shell.execute_reply": "2024-01-02T11:52:11.546421Z"
    },
    "papermill": {
     "duration": 0.203383,
     "end_time": "2024-01-02T11:52:11.550145",
     "exception": false,
     "start_time": "2024-01-02T11:52:11.346762",
     "status": "completed"
    },
    "tags": []
   },
   "outputs": [
    {
     "name": "stdout",
     "output_type": "stream",
     "text": [
      "Accuracy:  0.8444444444444444 \n",
      "Precision:  0.7894736842105263 \n",
      "Recall Score 0.8333333333333334 \n",
      "F1 Score 0.8108108108108109 \n",
      "Confusion Matrix\n",
      " [[46  8]\n",
      " [ 6 30]]\n",
      "              precision    recall  f1-score   support\n",
      "\n",
      "           0       0.88      0.85      0.87        54\n",
      "           1       0.79      0.83      0.81        36\n",
      "\n",
      "    accuracy                           0.84        90\n",
      "   macro avg       0.84      0.84      0.84        90\n",
      "weighted avg       0.85      0.84      0.85        90\n",
      "\n"
     ]
    }
   ],
   "source": [
    "#Gradient Boosting classification\n",
    "from sklearn.ensemble import GradientBoostingClassifier\n",
    "gbm=GradientBoostingClassifier() \n",
    "gbm.fit(x_train,y_train)\n",
    "y_pred=gbm.predict(x_test)\n",
    "\n",
    "acc = accuracy_score(y_test,y_pred)\n",
    "pr = precision_score(y_test,y_pred)\n",
    "re = recall_score(y_test,y_pred)\n",
    "f1 = f1_score(y_test,y_pred)\n",
    "cm = confusion_matrix(y_test,y_pred)\n",
    "print('Accuracy: ',acc,'\\nPrecision: ',pr,'\\nRecall Score', re,'\\nF1 Score', f1, '\\nConfusion Matrix\\n', cm)\n",
    "print(classification_report(y_test,y_pred))\n",
    "Results['GB'] = [acc,pr,re,f1]"
   ]
  },
  {
   "cell_type": "code",
   "execution_count": 41,
   "id": "5fbdfdeb",
   "metadata": {
    "execution": {
     "iopub.execute_input": "2024-01-02T11:52:11.597381Z",
     "iopub.status.busy": "2024-01-02T11:52:11.596127Z",
     "iopub.status.idle": "2024-01-02T11:52:11.994237Z",
     "shell.execute_reply": "2024-01-02T11:52:11.993290Z"
    },
    "papermill": {
     "duration": 0.425208,
     "end_time": "2024-01-02T11:52:11.997273",
     "exception": false,
     "start_time": "2024-01-02T11:52:11.572065",
     "status": "completed"
    },
    "tags": []
   },
   "outputs": [
    {
     "name": "stdout",
     "output_type": "stream",
     "text": [
      "Accuracy:  0.8222222222222222 \n",
      "Precision:  0.7272727272727273 \n",
      "Recall Score 0.8888888888888888 \n",
      "F1 Score 0.7999999999999999 \n",
      "Confusion Matrix\n",
      " [[42 12]\n",
      " [ 4 32]]\n",
      "              precision    recall  f1-score   support\n",
      "\n",
      "           0       0.91      0.78      0.84        54\n",
      "           1       0.73      0.89      0.80        36\n",
      "\n",
      "    accuracy                           0.82        90\n",
      "   macro avg       0.82      0.83      0.82        90\n",
      "weighted avg       0.84      0.82      0.82        90\n",
      "\n"
     ]
    }
   ],
   "source": [
    "#XG Boosting\n",
    "#XG Boosting\n",
    "from xgboost import XGBClassifier\n",
    "xgbc = XGBClassifier()\n",
    "xgbc.fit(x_train,y_train)\n",
    "y_pred = xgbc.predict(x_test)\n",
    "\n",
    "acc = accuracy_score(y_test,y_pred)\n",
    "pr = precision_score(y_test,y_pred)\n",
    "re = recall_score(y_test,y_pred)\n",
    "f1 = f1_score(y_test,y_pred)\n",
    "cm = confusion_matrix(y_test,y_pred)\n",
    "print('Accuracy: ',acc,'\\nPrecision: ',pr,'\\nRecall Score', re,'\\nF1 Score', f1, '\\nConfusion Matrix\\n', cm)\n",
    "print(classification_report(y_test,y_pred))\n",
    "Results['XGB'] = [acc,pr,re,f1]"
   ]
  },
  {
   "cell_type": "code",
   "execution_count": 42,
   "id": "ea71e6e8",
   "metadata": {
    "execution": {
     "iopub.execute_input": "2024-01-02T11:52:12.054980Z",
     "iopub.status.busy": "2024-01-02T11:52:12.053590Z",
     "iopub.status.idle": "2024-01-02T11:52:12.074574Z",
     "shell.execute_reply": "2024-01-02T11:52:12.072773Z"
    },
    "papermill": {
     "duration": 0.052244,
     "end_time": "2024-01-02T11:52:12.077220",
     "exception": false,
     "start_time": "2024-01-02T11:52:12.024976",
     "status": "completed"
    },
    "tags": []
   },
   "outputs": [
    {
     "data": {
      "text/html": [
       "<div>\n",
       "<style scoped>\n",
       "    .dataframe tbody tr th:only-of-type {\n",
       "        vertical-align: middle;\n",
       "    }\n",
       "\n",
       "    .dataframe tbody tr th {\n",
       "        vertical-align: top;\n",
       "    }\n",
       "\n",
       "    .dataframe thead th {\n",
       "        text-align: right;\n",
       "    }\n",
       "</style>\n",
       "<table border=\"1\" class=\"dataframe\">\n",
       "  <thead>\n",
       "    <tr style=\"text-align: right;\">\n",
       "      <th></th>\n",
       "      <th>LogReg</th>\n",
       "      <th>KNN</th>\n",
       "      <th>NB</th>\n",
       "      <th>DT</th>\n",
       "      <th>RF</th>\n",
       "      <th>SVM</th>\n",
       "      <th>KNN with bagging</th>\n",
       "      <th>GB</th>\n",
       "      <th>XGB</th>\n",
       "    </tr>\n",
       "  </thead>\n",
       "  <tbody>\n",
       "    <tr>\n",
       "      <th>Accuracy</th>\n",
       "      <td>0.833333</td>\n",
       "      <td>0.844444</td>\n",
       "      <td>0.811111</td>\n",
       "      <td>0.777778</td>\n",
       "      <td>0.822222</td>\n",
       "      <td>0.833333</td>\n",
       "      <td>0.844444</td>\n",
       "      <td>0.844444</td>\n",
       "      <td>0.822222</td>\n",
       "    </tr>\n",
       "    <tr>\n",
       "      <th>Precision</th>\n",
       "      <td>0.783784</td>\n",
       "      <td>0.789474</td>\n",
       "      <td>0.756757</td>\n",
       "      <td>0.690476</td>\n",
       "      <td>0.750000</td>\n",
       "      <td>0.838710</td>\n",
       "      <td>0.823529</td>\n",
       "      <td>0.789474</td>\n",
       "      <td>0.727273</td>\n",
       "    </tr>\n",
       "    <tr>\n",
       "      <th>Recall</th>\n",
       "      <td>0.805556</td>\n",
       "      <td>0.833333</td>\n",
       "      <td>0.777778</td>\n",
       "      <td>0.805556</td>\n",
       "      <td>0.833333</td>\n",
       "      <td>0.722222</td>\n",
       "      <td>0.777778</td>\n",
       "      <td>0.833333</td>\n",
       "      <td>0.888889</td>\n",
       "    </tr>\n",
       "    <tr>\n",
       "      <th>F1</th>\n",
       "      <td>0.794521</td>\n",
       "      <td>0.810811</td>\n",
       "      <td>0.767123</td>\n",
       "      <td>0.743590</td>\n",
       "      <td>0.789474</td>\n",
       "      <td>0.776119</td>\n",
       "      <td>0.800000</td>\n",
       "      <td>0.810811</td>\n",
       "      <td>0.800000</td>\n",
       "    </tr>\n",
       "  </tbody>\n",
       "</table>\n",
       "</div>"
      ],
      "text/plain": [
       "             LogReg       KNN        NB        DT        RF       SVM  \\\n",
       "Accuracy   0.833333  0.844444  0.811111  0.777778  0.822222  0.833333   \n",
       "Precision  0.783784  0.789474  0.756757  0.690476  0.750000  0.838710   \n",
       "Recall     0.805556  0.833333  0.777778  0.805556  0.833333  0.722222   \n",
       "F1         0.794521  0.810811  0.767123  0.743590  0.789474  0.776119   \n",
       "\n",
       "           KNN with bagging        GB       XGB  \n",
       "Accuracy           0.844444  0.844444  0.822222  \n",
       "Precision          0.823529  0.789474  0.727273  \n",
       "Recall             0.777778  0.833333  0.888889  \n",
       "F1                 0.800000  0.810811  0.800000  "
      ]
     },
     "execution_count": 42,
     "metadata": {},
     "output_type": "execute_result"
    }
   ],
   "source": [
    "Results"
   ]
  },
  {
   "cell_type": "markdown",
   "id": "1135bc4f",
   "metadata": {
    "papermill": {
     "duration": 0.024818,
     "end_time": "2024-01-02T11:52:12.126619",
     "exception": false,
     "start_time": "2024-01-02T11:52:12.101801",
     "status": "completed"
    },
    "tags": []
   },
   "source": [
    "- Though with each run, the results of metrics are slightly different, on an average, KNN algorithm seems to be yielidng consistently higher accuracy (84%) and an overall good F1 score of 81%\n",
    "- Let us now tune for right value of k"
   ]
  },
  {
   "cell_type": "code",
   "execution_count": 43,
   "id": "75ab4540",
   "metadata": {
    "execution": {
     "iopub.execute_input": "2024-01-02T11:52:12.180124Z",
     "iopub.status.busy": "2024-01-02T11:52:12.179193Z",
     "iopub.status.idle": "2024-01-02T11:52:12.613186Z",
     "shell.execute_reply": "2024-01-02T11:52:12.611819Z"
    },
    "papermill": {
     "duration": 0.465478,
     "end_time": "2024-01-02T11:52:12.616119",
     "exception": false,
     "start_time": "2024-01-02T11:52:12.150641",
     "status": "completed"
    },
    "tags": []
   },
   "outputs": [
    {
     "name": "stdout",
     "output_type": "stream",
     "text": [
      "[20.0, 14.444444444444445, 16.666666666666668, 20.0, 15.555555555555555, 14.444444444444445, 17.77777777777778, 15.555555555555555, 17.77777777777778, 16.666666666666668, 14.444444444444445]\n"
     ]
    },
    {
     "data": {
      "text/plain": [
       "Text(0.5, 1.0, 'K vs Error')"
      ]
     },
     "execution_count": 43,
     "metadata": {},
     "output_type": "execute_result"
    },
    {
     "data": {
      "image/png": "[encoded data removed]",
      "text/plain": [
       "<Figure size 640x480 with 1 Axes>"
      ]
     },
     "metadata": {},
     "output_type": "display_data"
    }
   ],
   "source": [
    "err=[]\n",
    "for i in range(1,12):\n",
    "    KNN = KNeighborsClassifier(n_neighbors = i)\n",
    "    KNN.fit(x_train,y_train)\n",
    "    y_pred = KNN.predict(x_test)\n",
    "    err.append((y_test != y_pred).sum()*100/len(y_test))\n",
    "print(err)\n",
    "plt.plot(range(1,12),err,marker='o')\n",
    "plt.xlabel('K')\n",
    "plt.ylabel('Error')\n",
    "plt.title('K vs Error') \n"
   ]
  },
  {
   "cell_type": "markdown",
   "id": "09a301ae",
   "metadata": {
    "papermill": {
     "duration": 0.024615,
     "end_time": "2024-01-02T11:52:12.664310",
     "exception": false,
     "start_time": "2024-01-02T11:52:12.639695",
     "status": "completed"
    },
    "tags": []
   },
   "source": [
    "- From the K vs Error graph, k=6 or 11, seems to be optimal number of neighbors for consideration\n",
    "- However since its a classification problem, an odd value of k is recommended.\n",
    "- However we'll model for both n values and choose our best value"
   ]
  },
  {
   "cell_type": "code",
   "execution_count": 44,
   "id": "6732aef3",
   "metadata": {
    "execution": {
     "iopub.execute_input": "2024-01-02T11:52:12.716473Z",
     "iopub.status.busy": "2024-01-02T11:52:12.716070Z",
     "iopub.status.idle": "2024-01-02T11:52:12.754568Z",
     "shell.execute_reply": "2024-01-02T11:52:12.753346Z"
    },
    "papermill": {
     "duration": 0.06606,
     "end_time": "2024-01-02T11:52:12.757133",
     "exception": false,
     "start_time": "2024-01-02T11:52:12.691073",
     "status": "completed"
    },
    "tags": []
   },
   "outputs": [
    {
     "name": "stdout",
     "output_type": "stream",
     "text": [
      "Accuracy:  0.8555555555555555 \n",
      "Precision:  0.8709677419354839 \n",
      "Recall Score 0.75 \n",
      "F1 Score 0.8059701492537312 \n",
      "Confusion Matrix\n",
      " [[50  4]\n",
      " [ 9 27]]\n",
      "              precision    recall  f1-score   support\n",
      "\n",
      "           0       0.85      0.93      0.88        54\n",
      "           1       0.87      0.75      0.81        36\n",
      "\n",
      "    accuracy                           0.86        90\n",
      "   macro avg       0.86      0.84      0.85        90\n",
      "weighted avg       0.86      0.86      0.85        90\n",
      "\n"
     ]
    }
   ],
   "source": [
    "#Remodeling the data with KNN of 6 neighbors\n",
    "from sklearn.neighbors import KNeighborsClassifier\n",
    "KNN6 = KNeighborsClassifier(n_neighbors = 6)\n",
    "KNN6.fit(x_train,y_train)\n",
    "y_pred = KNN6.predict(x_test)\n",
    "\n",
    "acc = accuracy_score(y_test,y_pred)\n",
    "pr = precision_score(y_test,y_pred)\n",
    "re = recall_score(y_test,y_pred)\n",
    "f1 = f1_score(y_test,y_pred)\n",
    "cm = confusion_matrix(y_test,y_pred)\n",
    "print('Accuracy: ',acc,'\\nPrecision: ',pr,'\\nRecall Score', re,'\\nF1 Score', f1, '\\nConfusion Matrix\\n', cm)\n",
    "print(classification_report(y_test,y_pred))\n",
    "Results['KNN with n=6'] = [acc,pr,re,f1]"
   ]
  },
  {
   "cell_type": "code",
   "execution_count": 45,
   "id": "74b934d3",
   "metadata": {
    "execution": {
     "iopub.execute_input": "2024-01-02T11:52:12.804884Z",
     "iopub.status.busy": "2024-01-02T11:52:12.803630Z",
     "iopub.status.idle": "2024-01-02T11:52:12.842395Z",
     "shell.execute_reply": "2024-01-02T11:52:12.841288Z"
    },
    "papermill": {
     "duration": 0.065133,
     "end_time": "2024-01-02T11:52:12.844794",
     "exception": false,
     "start_time": "2024-01-02T11:52:12.779661",
     "status": "completed"
    },
    "tags": []
   },
   "outputs": [
    {
     "name": "stdout",
     "output_type": "stream",
     "text": [
      "Accuracy:  0.8555555555555555 \n",
      "Precision:  0.8285714285714286 \n",
      "Recall Score 0.8055555555555556 \n",
      "F1 Score 0.8169014084507044 \n",
      "Confusion Matrix\n",
      " [[48  6]\n",
      " [ 7 29]]\n",
      "              precision    recall  f1-score   support\n",
      "\n",
      "           0       0.87      0.89      0.88        54\n",
      "           1       0.83      0.81      0.82        36\n",
      "\n",
      "    accuracy                           0.86        90\n",
      "   macro avg       0.85      0.85      0.85        90\n",
      "weighted avg       0.86      0.86      0.86        90\n",
      "\n"
     ]
    }
   ],
   "source": [
    "#KNN with 11 neighbors\n",
    "from sklearn.neighbors import KNeighborsClassifier\n",
    "KNN11 = KNeighborsClassifier(n_neighbors = 11)\n",
    "KNN11.fit(x_train,y_train)\n",
    "y_pred = KNN11.predict(x_test)\n",
    "\n",
    "acc = accuracy_score(y_test,y_pred)\n",
    "pr = precision_score(y_test,y_pred)\n",
    "re = recall_score(y_test,y_pred)\n",
    "f1 = f1_score(y_test,y_pred)\n",
    "cm = confusion_matrix(y_test,y_pred)\n",
    "print('Accuracy: ',acc,'\\nPrecision: ',pr,'\\nRecall Score', re,'\\nF1 Score', f1, '\\nConfusion Matrix\\n', cm)\n",
    "print(classification_report(y_test,y_pred))\n",
    "Results['KNN with n=11'] = [acc,pr,re,f1]"
   ]
  },
  {
   "cell_type": "code",
   "execution_count": 46,
   "id": "c2a76391",
   "metadata": {
    "execution": {
     "iopub.execute_input": "2024-01-02T11:52:12.893539Z",
     "iopub.status.busy": "2024-01-02T11:52:12.892527Z",
     "iopub.status.idle": "2024-01-02T11:52:12.910800Z",
     "shell.execute_reply": "2024-01-02T11:52:12.909642Z"
    },
    "papermill": {
     "duration": 0.046015,
     "end_time": "2024-01-02T11:52:12.913636",
     "exception": false,
     "start_time": "2024-01-02T11:52:12.867621",
     "status": "completed"
    },
    "tags": []
   },
   "outputs": [
    {
     "data": {
      "text/html": [
       "<div>\n",
       "<style scoped>\n",
       "    .dataframe tbody tr th:only-of-type {\n",
       "        vertical-align: middle;\n",
       "    }\n",
       "\n",
       "    .dataframe tbody tr th {\n",
       "        vertical-align: top;\n",
       "    }\n",
       "\n",
       "    .dataframe thead th {\n",
       "        text-align: right;\n",
       "    }\n",
       "</style>\n",
       "<table border=\"1\" class=\"dataframe\">\n",
       "  <thead>\n",
       "    <tr style=\"text-align: right;\">\n",
       "      <th></th>\n",
       "      <th>LogReg</th>\n",
       "      <th>KNN</th>\n",
       "      <th>NB</th>\n",
       "      <th>DT</th>\n",
       "      <th>RF</th>\n",
       "      <th>SVM</th>\n",
       "      <th>KNN with bagging</th>\n",
       "      <th>GB</th>\n",
       "      <th>XGB</th>\n",
       "      <th>KNN with n=6</th>\n",
       "      <th>KNN with n=11</th>\n",
       "    </tr>\n",
       "  </thead>\n",
       "  <tbody>\n",
       "    <tr>\n",
       "      <th>Accuracy</th>\n",
       "      <td>0.833333</td>\n",
       "      <td>0.844444</td>\n",
       "      <td>0.811111</td>\n",
       "      <td>0.777778</td>\n",
       "      <td>0.822222</td>\n",
       "      <td>0.833333</td>\n",
       "      <td>0.844444</td>\n",
       "      <td>0.844444</td>\n",
       "      <td>0.822222</td>\n",
       "      <td>0.855556</td>\n",
       "      <td>0.855556</td>\n",
       "    </tr>\n",
       "    <tr>\n",
       "      <th>Precision</th>\n",
       "      <td>0.783784</td>\n",
       "      <td>0.789474</td>\n",
       "      <td>0.756757</td>\n",
       "      <td>0.690476</td>\n",
       "      <td>0.750000</td>\n",
       "      <td>0.838710</td>\n",
       "      <td>0.823529</td>\n",
       "      <td>0.789474</td>\n",
       "      <td>0.727273</td>\n",
       "      <td>0.870968</td>\n",
       "      <td>0.828571</td>\n",
       "    </tr>\n",
       "    <tr>\n",
       "      <th>Recall</th>\n",
       "      <td>0.805556</td>\n",
       "      <td>0.833333</td>\n",
       "      <td>0.777778</td>\n",
       "      <td>0.805556</td>\n",
       "      <td>0.833333</td>\n",
       "      <td>0.722222</td>\n",
       "      <td>0.777778</td>\n",
       "      <td>0.833333</td>\n",
       "      <td>0.888889</td>\n",
       "      <td>0.750000</td>\n",
       "      <td>0.805556</td>\n",
       "    </tr>\n",
       "    <tr>\n",
       "      <th>F1</th>\n",
       "      <td>0.794521</td>\n",
       "      <td>0.810811</td>\n",
       "      <td>0.767123</td>\n",
       "      <td>0.743590</td>\n",
       "      <td>0.789474</td>\n",
       "      <td>0.776119</td>\n",
       "      <td>0.800000</td>\n",
       "      <td>0.810811</td>\n",
       "      <td>0.800000</td>\n",
       "      <td>0.805970</td>\n",
       "      <td>0.816901</td>\n",
       "    </tr>\n",
       "  </tbody>\n",
       "</table>\n",
       "</div>"
      ],
      "text/plain": [
       "             LogReg       KNN        NB        DT        RF       SVM  \\\n",
       "Accuracy   0.833333  0.844444  0.811111  0.777778  0.822222  0.833333   \n",
       "Precision  0.783784  0.789474  0.756757  0.690476  0.750000  0.838710   \n",
       "Recall     0.805556  0.833333  0.777778  0.805556  0.833333  0.722222   \n",
       "F1         0.794521  0.810811  0.767123  0.743590  0.789474  0.776119   \n",
       "\n",
       "           KNN with bagging        GB       XGB  KNN with n=6  KNN with n=11  \n",
       "Accuracy           0.844444  0.844444  0.822222      0.855556       0.855556  \n",
       "Precision          0.823529  0.789474  0.727273      0.870968       0.828571  \n",
       "Recall             0.777778  0.833333  0.888889      0.750000       0.805556  \n",
       "F1                 0.800000  0.810811  0.800000      0.805970       0.816901  "
      ]
     },
     "execution_count": 46,
     "metadata": {},
     "output_type": "execute_result"
    }
   ],
   "source": [
    "Results"
   ]
  },
  {
   "cell_type": "markdown",
   "id": "8451f174",
   "metadata": {
    "papermill": {
     "duration": 0.025141,
     "end_time": "2024-01-02T11:52:12.961832",
     "exception": false,
     "start_time": "2024-01-02T11:52:12.936691",
     "status": "completed"
    },
    "tags": []
   },
   "source": [
    "- With this we conclude that KNN model with default 5 neighbors is yeilding as much as results as the tuned model with 6 or 11 neighbors. So we retain the neighbors value as 5\n",
    "- To use the model on test data, we should first prep the test data."
   ]
  },
  {
   "cell_type": "code",
   "execution_count": 47,
   "id": "73c41214",
   "metadata": {
    "execution": {
     "iopub.execute_input": "2024-01-02T11:52:13.011595Z",
     "iopub.status.busy": "2024-01-02T11:52:13.010561Z",
     "iopub.status.idle": "2024-01-02T11:52:13.023741Z",
     "shell.execute_reply": "2024-01-02T11:52:13.022321Z"
    },
    "papermill": {
     "duration": 0.041115,
     "end_time": "2024-01-02T11:52:13.026790",
     "exception": false,
     "start_time": "2024-01-02T11:52:12.985675",
     "status": "completed"
    },
    "tags": []
   },
   "outputs": [
    {
     "name": "stdout",
     "output_type": "stream",
     "text": [
      "<class 'pandas.core.frame.DataFrame'>\n",
      "RangeIndex: 418 entries, 0 to 417\n",
      "Data columns (total 11 columns):\n",
      " #   Column       Non-Null Count  Dtype  \n",
      "---  ------       --------------  -----  \n",
      " 0   PassengerId  418 non-null    int64  \n",
      " 1   Pclass       418 non-null    int64  \n",
      " 2   Name         418 non-null    object \n",
      " 3   Sex          418 non-null    object \n",
      " 4   Age          332 non-null    float64\n",
      " 5   SibSp        418 non-null    int64  \n",
      " 6   Parch        418 non-null    int64  \n",
      " 7   Ticket       418 non-null    object \n",
      " 8   Fare         417 non-null    float64\n",
      " 9   Cabin        91 non-null     object \n",
      " 10  Embarked     418 non-null    object \n",
      "dtypes: float64(2), int64(4), object(5)\n",
      "memory usage: 36.0+ KB\n"
     ]
    }
   ],
   "source": [
    "test_data.info()"
   ]
  },
  {
   "cell_type": "code",
   "execution_count": 48,
   "id": "19b94e10",
   "metadata": {
    "execution": {
     "iopub.execute_input": "2024-01-02T11:52:13.077769Z",
     "iopub.status.busy": "2024-01-02T11:52:13.076945Z",
     "iopub.status.idle": "2024-01-02T11:52:13.085930Z",
     "shell.execute_reply": "2024-01-02T11:52:13.084900Z"
    },
    "papermill": {
     "duration": 0.036855,
     "end_time": "2024-01-02T11:52:13.088244",
     "exception": false,
     "start_time": "2024-01-02T11:52:13.051389",
     "status": "completed"
    },
    "tags": []
   },
   "outputs": [
    {
     "data": {
      "text/plain": [
       "PassengerId      0\n",
       "Pclass           0\n",
       "Name             0\n",
       "Sex              0\n",
       "Age             86\n",
       "SibSp            0\n",
       "Parch            0\n",
       "Ticket           0\n",
       "Fare             1\n",
       "Cabin          327\n",
       "Embarked         0\n",
       "dtype: int64"
      ]
     },
     "execution_count": 48,
     "metadata": {},
     "output_type": "execute_result"
    }
   ],
   "source": [
    "test_data.isnull().sum()"
   ]
  },
  {
   "cell_type": "code",
   "execution_count": 49,
   "id": "a9d0f804",
   "metadata": {
    "execution": {
     "iopub.execute_input": "2024-01-02T11:52:13.138208Z",
     "iopub.status.busy": "2024-01-02T11:52:13.137802Z",
     "iopub.status.idle": "2024-01-02T11:52:13.144867Z",
     "shell.execute_reply": "2024-01-02T11:52:13.144045Z"
    },
    "papermill": {
     "duration": 0.03474,
     "end_time": "2024-01-02T11:52:13.147217",
     "exception": false,
     "start_time": "2024-01-02T11:52:13.112477",
     "status": "completed"
    },
    "tags": []
   },
   "outputs": [],
   "source": [
    "#Creating submission dataframe\n",
    "submission = pd.DataFrame(columns=['PassengerId','Survived'])\n",
    "submission.PassengerId = test_data.PassengerId.copy()"
   ]
  },
  {
   "cell_type": "code",
   "execution_count": 50,
   "id": "9609cdaf",
   "metadata": {
    "execution": {
     "iopub.execute_input": "2024-01-02T11:52:13.196187Z",
     "iopub.status.busy": "2024-01-02T11:52:13.195390Z",
     "iopub.status.idle": "2024-01-02T11:52:13.207707Z",
     "shell.execute_reply": "2024-01-02T11:52:13.206517Z"
    },
    "papermill": {
     "duration": 0.040308,
     "end_time": "2024-01-02T11:52:13.210892",
     "exception": false,
     "start_time": "2024-01-02T11:52:13.170584",
     "status": "completed"
    },
    "tags": []
   },
   "outputs": [
    {
     "data": {
      "text/html": [
       "<div>\n",
       "<style scoped>\n",
       "    .dataframe tbody tr th:only-of-type {\n",
       "        vertical-align: middle;\n",
       "    }\n",
       "\n",
       "    .dataframe tbody tr th {\n",
       "        vertical-align: top;\n",
       "    }\n",
       "\n",
       "    .dataframe thead th {\n",
       "        text-align: right;\n",
       "    }\n",
       "</style>\n",
       "<table border=\"1\" class=\"dataframe\">\n",
       "  <thead>\n",
       "    <tr style=\"text-align: right;\">\n",
       "      <th></th>\n",
       "      <th>PassengerId</th>\n",
       "      <th>Survived</th>\n",
       "    </tr>\n",
       "  </thead>\n",
       "  <tbody>\n",
       "    <tr>\n",
       "      <th>0</th>\n",
       "      <td>892</td>\n",
       "      <td>NaN</td>\n",
       "    </tr>\n",
       "    <tr>\n",
       "      <th>1</th>\n",
       "      <td>893</td>\n",
       "      <td>NaN</td>\n",
       "    </tr>\n",
       "    <tr>\n",
       "      <th>2</th>\n",
       "      <td>894</td>\n",
       "      <td>NaN</td>\n",
       "    </tr>\n",
       "    <tr>\n",
       "      <th>3</th>\n",
       "      <td>895</td>\n",
       "      <td>NaN</td>\n",
       "    </tr>\n",
       "    <tr>\n",
       "      <th>4</th>\n",
       "      <td>896</td>\n",
       "      <td>NaN</td>\n",
       "    </tr>\n",
       "    <tr>\n",
       "      <th>...</th>\n",
       "      <td>...</td>\n",
       "      <td>...</td>\n",
       "    </tr>\n",
       "    <tr>\n",
       "      <th>413</th>\n",
       "      <td>1305</td>\n",
       "      <td>NaN</td>\n",
       "    </tr>\n",
       "    <tr>\n",
       "      <th>414</th>\n",
       "      <td>1306</td>\n",
       "      <td>NaN</td>\n",
       "    </tr>\n",
       "    <tr>\n",
       "      <th>415</th>\n",
       "      <td>1307</td>\n",
       "      <td>NaN</td>\n",
       "    </tr>\n",
       "    <tr>\n",
       "      <th>416</th>\n",
       "      <td>1308</td>\n",
       "      <td>NaN</td>\n",
       "    </tr>\n",
       "    <tr>\n",
       "      <th>417</th>\n",
       "      <td>1309</td>\n",
       "      <td>NaN</td>\n",
       "    </tr>\n",
       "  </tbody>\n",
       "</table>\n",
       "<p>418 rows × 2 columns</p>\n",
       "</div>"
      ],
      "text/plain": [
       "     PassengerId Survived\n",
       "0            892      NaN\n",
       "1            893      NaN\n",
       "2            894      NaN\n",
       "3            895      NaN\n",
       "4            896      NaN\n",
       "..           ...      ...\n",
       "413         1305      NaN\n",
       "414         1306      NaN\n",
       "415         1307      NaN\n",
       "416         1308      NaN\n",
       "417         1309      NaN\n",
       "\n",
       "[418 rows x 2 columns]"
      ]
     },
     "execution_count": 50,
     "metadata": {},
     "output_type": "execute_result"
    }
   ],
   "source": [
    "submission"
   ]
  },
  {
   "cell_type": "code",
   "execution_count": 51,
   "id": "64751670",
   "metadata": {
    "execution": {
     "iopub.execute_input": "2024-01-02T11:52:13.262172Z",
     "iopub.status.busy": "2024-01-02T11:52:13.261383Z",
     "iopub.status.idle": "2024-01-02T11:52:13.268713Z",
     "shell.execute_reply": "2024-01-02T11:52:13.267744Z"
    },
    "papermill": {
     "duration": 0.03472,
     "end_time": "2024-01-02T11:52:13.271699",
     "exception": false,
     "start_time": "2024-01-02T11:52:13.236979",
     "status": "completed"
    },
    "tags": []
   },
   "outputs": [
    {
     "data": {
      "text/plain": [
       "array(['male', 'female'], dtype=object)"
      ]
     },
     "execution_count": 51,
     "metadata": {},
     "output_type": "execute_result"
    }
   ],
   "source": [
    "test_data.Sex.unique()"
   ]
  },
  {
   "cell_type": "code",
   "execution_count": 52,
   "id": "b5b2ca7b",
   "metadata": {
    "execution": {
     "iopub.execute_input": "2024-01-02T11:52:13.324020Z",
     "iopub.status.busy": "2024-01-02T11:52:13.323377Z",
     "iopub.status.idle": "2024-01-02T11:52:13.337284Z",
     "shell.execute_reply": "2024-01-02T11:52:13.336312Z"
    },
    "papermill": {
     "duration": 0.042982,
     "end_time": "2024-01-02T11:52:13.339602",
     "exception": false,
     "start_time": "2024-01-02T11:52:13.296620",
     "status": "completed"
    },
    "tags": []
   },
   "outputs": [],
   "source": [
    "# We do the same operations on test data as on the original data, as the missing values or relevance of columns is similar\n",
    "test_data['Family']= test_data.SibSp + test_data.Parch\n",
    "test_data['Male'] = pd.get_dummies(test_data.Sex)['male']\n",
    "test_data['Female'] = pd.get_dummies(test_data.Sex)['female']\n",
    "test_data.drop(['PassengerId','Name','Ticket','Cabin','SibSp','Parch','Sex'],axis=1,inplace=True)\n",
    "test_data.loc[test_data.Fare.isnull(),'Fare'] = np.ceil(test_data.Fare.mean())\n",
    "test_data.loc[test_data.Age.isnull(),'Age'] = np.ceil(test_data.Age.mean())\n",
    "test_data.Embarked = test_data.Embarked.map({'S':0,'C':1,'Q':2})"
   ]
  },
  {
   "cell_type": "code",
   "execution_count": 53,
   "id": "19153100",
   "metadata": {
    "execution": {
     "iopub.execute_input": "2024-01-02T11:52:13.389112Z",
     "iopub.status.busy": "2024-01-02T11:52:13.388454Z",
     "iopub.status.idle": "2024-01-02T11:52:13.400627Z",
     "shell.execute_reply": "2024-01-02T11:52:13.399474Z"
    },
    "papermill": {
     "duration": 0.0415,
     "end_time": "2024-01-02T11:52:13.403990",
     "exception": false,
     "start_time": "2024-01-02T11:52:13.362490",
     "status": "completed"
    },
    "tags": []
   },
   "outputs": [
    {
     "name": "stdout",
     "output_type": "stream",
     "text": [
      "<class 'pandas.core.frame.DataFrame'>\n",
      "RangeIndex: 418 entries, 0 to 417\n",
      "Data columns (total 7 columns):\n",
      " #   Column    Non-Null Count  Dtype  \n",
      "---  ------    --------------  -----  \n",
      " 0   Pclass    418 non-null    int64  \n",
      " 1   Age       418 non-null    float64\n",
      " 2   Fare      418 non-null    float64\n",
      " 3   Embarked  418 non-null    int64  \n",
      " 4   Family    418 non-null    int64  \n",
      " 5   Male      418 non-null    bool   \n",
      " 6   Female    418 non-null    bool   \n",
      "dtypes: bool(2), float64(2), int64(3)\n",
      "memory usage: 17.3 KB\n"
     ]
    }
   ],
   "source": [
    "test_data.info()"
   ]
  },
  {
   "cell_type": "code",
   "execution_count": 54,
   "id": "fe014917",
   "metadata": {
    "execution": {
     "iopub.execute_input": "2024-01-02T11:52:13.458306Z",
     "iopub.status.busy": "2024-01-02T11:52:13.456568Z",
     "iopub.status.idle": "2024-01-02T11:52:13.477765Z",
     "shell.execute_reply": "2024-01-02T11:52:13.476617Z"
    },
    "papermill": {
     "duration": 0.050241,
     "end_time": "2024-01-02T11:52:13.480261",
     "exception": false,
     "start_time": "2024-01-02T11:52:13.430020",
     "status": "completed"
    },
    "tags": []
   },
   "outputs": [
    {
     "data": {
      "text/html": [
       "<div>\n",
       "<style scoped>\n",
       "    .dataframe tbody tr th:only-of-type {\n",
       "        vertical-align: middle;\n",
       "    }\n",
       "\n",
       "    .dataframe tbody tr th {\n",
       "        vertical-align: top;\n",
       "    }\n",
       "\n",
       "    .dataframe thead th {\n",
       "        text-align: right;\n",
       "    }\n",
       "</style>\n",
       "<table border=\"1\" class=\"dataframe\">\n",
       "  <thead>\n",
       "    <tr style=\"text-align: right;\">\n",
       "      <th></th>\n",
       "      <th>Pclass</th>\n",
       "      <th>Age</th>\n",
       "      <th>Fare</th>\n",
       "      <th>Embarked</th>\n",
       "      <th>Family</th>\n",
       "      <th>Male</th>\n",
       "      <th>Female</th>\n",
       "    </tr>\n",
       "  </thead>\n",
       "  <tbody>\n",
       "    <tr>\n",
       "      <th>0</th>\n",
       "      <td>1.0</td>\n",
       "      <td>0.452723</td>\n",
       "      <td>0.015282</td>\n",
       "      <td>1.0</td>\n",
       "      <td>0.0</td>\n",
       "      <td>1.0</td>\n",
       "      <td>0.0</td>\n",
       "    </tr>\n",
       "    <tr>\n",
       "      <th>1</th>\n",
       "      <td>1.0</td>\n",
       "      <td>0.617566</td>\n",
       "      <td>0.013663</td>\n",
       "      <td>0.0</td>\n",
       "      <td>0.1</td>\n",
       "      <td>0.0</td>\n",
       "      <td>1.0</td>\n",
       "    </tr>\n",
       "    <tr>\n",
       "      <th>2</th>\n",
       "      <td>0.5</td>\n",
       "      <td>0.815377</td>\n",
       "      <td>0.018909</td>\n",
       "      <td>1.0</td>\n",
       "      <td>0.0</td>\n",
       "      <td>1.0</td>\n",
       "      <td>0.0</td>\n",
       "    </tr>\n",
       "    <tr>\n",
       "      <th>3</th>\n",
       "      <td>1.0</td>\n",
       "      <td>0.353818</td>\n",
       "      <td>0.016908</td>\n",
       "      <td>0.0</td>\n",
       "      <td>0.0</td>\n",
       "      <td>1.0</td>\n",
       "      <td>0.0</td>\n",
       "    </tr>\n",
       "    <tr>\n",
       "      <th>4</th>\n",
       "      <td>1.0</td>\n",
       "      <td>0.287881</td>\n",
       "      <td>0.023984</td>\n",
       "      <td>0.0</td>\n",
       "      <td>0.2</td>\n",
       "      <td>0.0</td>\n",
       "      <td>1.0</td>\n",
       "    </tr>\n",
       "  </tbody>\n",
       "</table>\n",
       "</div>"
      ],
      "text/plain": [
       "   Pclass       Age      Fare  Embarked  Family  Male  Female\n",
       "0     1.0  0.452723  0.015282       1.0     0.0   1.0     0.0\n",
       "1     1.0  0.617566  0.013663       0.0     0.1   0.0     1.0\n",
       "2     0.5  0.815377  0.018909       1.0     0.0   1.0     0.0\n",
       "3     1.0  0.353818  0.016908       0.0     0.0   1.0     0.0\n",
       "4     1.0  0.287881  0.023984       0.0     0.2   0.0     1.0"
      ]
     },
     "execution_count": 54,
     "metadata": {},
     "output_type": "execute_result"
    }
   ],
   "source": [
    "col = test_data.columns\n",
    "test_x = pd.DataFrame(MMS.fit_transform(test_data),columns=col)\n",
    "test_x.head()"
   ]
  },
  {
   "cell_type": "code",
   "execution_count": 55,
   "id": "a40d748b",
   "metadata": {
    "execution": {
     "iopub.execute_input": "2024-01-02T11:52:13.534006Z",
     "iopub.status.busy": "2024-01-02T11:52:13.533568Z",
     "iopub.status.idle": "2024-01-02T11:52:13.571740Z",
     "shell.execute_reply": "2024-01-02T11:52:13.570478Z"
    },
    "papermill": {
     "duration": 0.067626,
     "end_time": "2024-01-02T11:52:13.574409",
     "exception": false,
     "start_time": "2024-01-02T11:52:13.506783",
     "status": "completed"
    },
    "tags": []
   },
   "outputs": [],
   "source": [
    "KNN5 = KNeighborsClassifier(n_neighbors = 5)\n",
    "KNN5.fit(x_train,y_train)\n",
    "submission.Survived = KNN5.predict(test_x)"
   ]
  },
  {
   "cell_type": "code",
   "execution_count": 56,
   "id": "5845c931",
   "metadata": {
    "execution": {
     "iopub.execute_input": "2024-01-02T11:52:13.626884Z",
     "iopub.status.busy": "2024-01-02T11:52:13.626497Z",
     "iopub.status.idle": "2024-01-02T11:52:13.639764Z",
     "shell.execute_reply": "2024-01-02T11:52:13.638179Z"
    },
    "papermill": {
     "duration": 0.043605,
     "end_time": "2024-01-02T11:52:13.642861",
     "exception": false,
     "start_time": "2024-01-02T11:52:13.599256",
     "status": "completed"
    },
    "tags": []
   },
   "outputs": [
    {
     "data": {
      "text/html": [
       "<div>\n",
       "<style scoped>\n",
       "    .dataframe tbody tr th:only-of-type {\n",
       "        vertical-align: middle;\n",
       "    }\n",
       "\n",
       "    .dataframe tbody tr th {\n",
       "        vertical-align: top;\n",
       "    }\n",
       "\n",
       "    .dataframe thead th {\n",
       "        text-align: right;\n",
       "    }\n",
       "</style>\n",
       "<table border=\"1\" class=\"dataframe\">\n",
       "  <thead>\n",
       "    <tr style=\"text-align: right;\">\n",
       "      <th></th>\n",
       "      <th>PassengerId</th>\n",
       "      <th>Survived</th>\n",
       "    </tr>\n",
       "  </thead>\n",
       "  <tbody>\n",
       "    <tr>\n",
       "      <th>0</th>\n",
       "      <td>892</td>\n",
       "      <td>0</td>\n",
       "    </tr>\n",
       "    <tr>\n",
       "      <th>1</th>\n",
       "      <td>893</td>\n",
       "      <td>0</td>\n",
       "    </tr>\n",
       "    <tr>\n",
       "      <th>2</th>\n",
       "      <td>894</td>\n",
       "      <td>0</td>\n",
       "    </tr>\n",
       "    <tr>\n",
       "      <th>3</th>\n",
       "      <td>895</td>\n",
       "      <td>0</td>\n",
       "    </tr>\n",
       "    <tr>\n",
       "      <th>4</th>\n",
       "      <td>896</td>\n",
       "      <td>0</td>\n",
       "    </tr>\n",
       "    <tr>\n",
       "      <th>...</th>\n",
       "      <td>...</td>\n",
       "      <td>...</td>\n",
       "    </tr>\n",
       "    <tr>\n",
       "      <th>413</th>\n",
       "      <td>1305</td>\n",
       "      <td>0</td>\n",
       "    </tr>\n",
       "    <tr>\n",
       "      <th>414</th>\n",
       "      <td>1306</td>\n",
       "      <td>1</td>\n",
       "    </tr>\n",
       "    <tr>\n",
       "      <th>415</th>\n",
       "      <td>1307</td>\n",
       "      <td>0</td>\n",
       "    </tr>\n",
       "    <tr>\n",
       "      <th>416</th>\n",
       "      <td>1308</td>\n",
       "      <td>0</td>\n",
       "    </tr>\n",
       "    <tr>\n",
       "      <th>417</th>\n",
       "      <td>1309</td>\n",
       "      <td>0</td>\n",
       "    </tr>\n",
       "  </tbody>\n",
       "</table>\n",
       "<p>418 rows × 2 columns</p>\n",
       "</div>"
      ],
      "text/plain": [
       "     PassengerId  Survived\n",
       "0            892         0\n",
       "1            893         0\n",
       "2            894         0\n",
       "3            895         0\n",
       "4            896         0\n",
       "..           ...       ...\n",
       "413         1305         0\n",
       "414         1306         1\n",
       "415         1307         0\n",
       "416         1308         0\n",
       "417         1309         0\n",
       "\n",
       "[418 rows x 2 columns]"
      ]
     },
     "execution_count": 56,
     "metadata": {},
     "output_type": "execute_result"
    }
   ],
   "source": [
    "submission"
   ]
  },
  {
   "cell_type": "code",
   "execution_count": 57,
   "id": "56693373",
   "metadata": {
    "execution": {
     "iopub.execute_input": "2024-01-02T11:52:13.699203Z",
     "iopub.status.busy": "2024-01-02T11:52:13.698697Z",
     "iopub.status.idle": "2024-01-02T11:52:13.708168Z",
     "shell.execute_reply": "2024-01-02T11:52:13.707000Z"
    },
    "papermill": {
     "duration": 0.041222,
     "end_time": "2024-01-02T11:52:13.710770",
     "exception": false,
     "start_time": "2024-01-02T11:52:13.669548",
     "status": "completed"
    },
    "tags": []
   },
   "outputs": [],
   "source": [
    "submission.to_csv('/kaggle/working/submission.csv',index=False)"
   ]
  },
  {
   "cell_type": "code",
   "execution_count": null,
   "id": "695ede9e",
   "metadata": {
    "papermill": {
     "duration": 0.02529,
     "end_time": "2024-01-02T11:52:13.762385",
     "exception": false,
     "start_time": "2024-01-02T11:52:13.737095",
     "status": "completed"
    },
    "tags": []
   },
   "outputs": [],
   "source": []
  }
 ],
 "metadata": {
  "kaggle": {
   "accelerator": "none",
   "dataSources": [
    {
     "databundleVersionId": 26502,
     "sourceId": 3136,
     "sourceType": "competition"
    }
   ],
   "dockerImageVersionId": 30626,
   "isGpuEnabled": false,
   "isInternetEnabled": true,
   "language": "python",
   "sourceType": "notebook"
  },
  "kernelspec": {
   "display_name": "Python 3",
   "language": "python",
   "name": "python3"
  },
  "language_info": {
   "codemirror_mode": {
    "name": "ipython",
    "version": 3
   },
   "file_extension": ".py",
   "mimetype": "text/x-python",
   "name": "python",
   "nbconvert_exporter": "python",
   "pygments_lexer": "ipython3",
   "version": "3.10.12"
  },
  "papermill": {
   "default_parameters": {},
   "duration": 16.55522,
   "end_time": "2024-01-02T11:52:14.612130",
   "environment_variables": {},
   "exception": null,
   "input_path": "__notebook__.ipynb",
   "output_path": "__notebook__.ipynb",
   "parameters": {},
   "start_time": "2024-01-02T11:51:58.056910",
   "version": "2.4.0"
  }
 },
 "nbformat": 4,
 "nbformat_minor": 5
}
